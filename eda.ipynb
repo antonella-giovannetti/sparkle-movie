{
 "cells": [
  {
   "cell_type": "markdown",
   "metadata": {},
   "source": [
    "# Analyse des Films et Recommandations avec PySpark\n",
    "\n",
    "Dans ce notebook, nous allons explorer un ensemble de données de films et de notes de spectateurs, puis créer un système de recommandations en utilisant la bibliothèque PySpark. Nous utiliserons diverses fonctionnalités de Spark, comme les transformations de données, les calculs statistiques, ainsi que la réduction de dimension et la standardisation des données.\n",
    "\n",
    "## Importation des bibliothèques et configuration de l'environnement\n",
    "Nous commençons par importer les bibliothèques nécessaires et configurer la session Spark."
   ]
  },
  {
   "cell_type": "code",
   "execution_count": 125,
   "metadata": {},
   "outputs": [],
   "source": [
    "import sys\n",
    "try:\n",
    "    import distutils\n",
    "except ModuleNotFoundError:\n",
    "    import setuptools._distutils as distutils\n",
    "    sys.modules[\"distutils\"] = distutils"
   ]
  },
  {
   "cell_type": "markdown",
   "metadata": {},
   "source": [
    "Cette partie du script gère l'importation des bibliothèques nécessaires et traite un problème potentiel de module manquant (distutils). Si le module distutils n'est pas disponible, il essaie d'importer setuptools._distutils et le remplace dans le module système."
   ]
  },
  {
   "cell_type": "markdown",
   "metadata": {},
   "source": [
    "## Initialisation de la session Spark\n",
    "Nous initialisons une session Spark avec 4 Go de mémoire allouée pour le driver et les exécutants."
   ]
  },
  {
   "cell_type": "code",
   "execution_count": 126,
   "metadata": {},
   "outputs": [],
   "source": [
    "from pyspark.sql import SparkSession\n",
    "from pyspark.sql.functions import avg, count\n",
    "from pyspark.sql.functions import explode, split\n",
    "\n",
    "spark = SparkSession.builder \\\n",
    "    .appName(\"MovieRecommendation\") \\\n",
    "    .config(\"spark.driver.memory\", \"4g\") \\\n",
    "    .config(\"spark.executor.memory\", \"4g\") \\\n",
    "    .config(\"spark.python.worker.timeout\", \"120s\") \\\n",
    "    .getOrCreate()"
   ]
  },
  {
   "cell_type": "markdown",
   "metadata": {},
   "source": [
    "## Chargement des données\n",
    "Nous chargeons les fichiers CSV contenant les informations des films et des notes."
   ]
  },
  {
   "cell_type": "code",
   "execution_count": 127,
   "metadata": {},
   "outputs": [
    {
     "name": "stdout",
     "output_type": "stream",
     "text": [
      "+-------+--------------------+--------------------+\n",
      "|movieId|               title|              genres|\n",
      "+-------+--------------------+--------------------+\n",
      "|      1|    Toy Story (1995)|Adventure|Animati...|\n",
      "|      2|      Jumanji (1995)|Adventure|Childre...|\n",
      "|      3|Grumpier Old Men ...|      Comedy|Romance|\n",
      "|      4|Waiting to Exhale...|Comedy|Drama|Romance|\n",
      "|      5|Father of the Bri...|              Comedy|\n",
      "|      6|         Heat (1995)|Action|Crime|Thri...|\n",
      "|      7|      Sabrina (1995)|      Comedy|Romance|\n",
      "|      8| Tom and Huck (1995)|  Adventure|Children|\n",
      "|      9| Sudden Death (1995)|              Action|\n",
      "|     10|    GoldenEye (1995)|Action|Adventure|...|\n",
      "+-------+--------------------+--------------------+\n",
      "only showing top 10 rows\n",
      "\n",
      "+------+-------+------+---------+\n",
      "|userId|movieId|rating|timestamp|\n",
      "+------+-------+------+---------+\n",
      "|     1|      1|   4.0|964982703|\n",
      "|     1|      3|   4.0|964981247|\n",
      "|     1|      6|   4.0|964982224|\n",
      "|     1|     47|   5.0|964983815|\n",
      "|     1|     50|   5.0|964982931|\n",
      "|     1|     70|   3.0|964982400|\n",
      "|     1|    101|   5.0|964980868|\n",
      "|     1|    110|   4.0|964982176|\n",
      "|     1|    151|   5.0|964984041|\n",
      "|     1|    157|   5.0|964984100|\n",
      "+------+-------+------+---------+\n",
      "only showing top 10 rows\n",
      "\n"
     ]
    }
   ],
   "source": [
    "movies = spark.read.csv(\"ml-latest-small/movies.csv\", header=True, inferSchema=True)\n",
    "ratings = spark.read.csv(\"ml-latest-small/ratings.csv\", header=True, inferSchema=True)\n",
    "movies.show(10)\n",
    "ratings.show(10)"
   ]
  },
  {
   "cell_type": "markdown",
   "metadata": {},
   "source": [
    "Nous chargeons les fichiers CSV contenant les informations des films et des notes. header=True indique que la première ligne des fichiers CSV contient les en-têtes de colonne, et inferSchema=True permet à Spark de deviner automatiquement les types de données des colonnes. Les fonctions show(10) affichent les 10 premières lignes des DataFrames movies et ratings."
   ]
  },
  {
   "cell_type": "markdown",
   "metadata": {},
   "source": [
    "## Exploration des données\n",
    "Affichage des schémas des deux ensembles de données pour mieux comprendre leur structure. Puis nous examinons le nombre total de film, les notes des films et le nombre d'utilisateurs uniques."
   ]
  },
  {
   "cell_type": "code",
   "execution_count": 128,
   "metadata": {},
   "outputs": [
    {
     "name": "stdout",
     "output_type": "stream",
     "text": [
      "root\n",
      " |-- movieId: integer (nullable = true)\n",
      " |-- title: string (nullable = true)\n",
      " |-- genres: string (nullable = true)\n",
      "\n",
      "root\n",
      " |-- userId: integer (nullable = true)\n",
      " |-- movieId: integer (nullable = true)\n",
      " |-- rating: double (nullable = true)\n",
      " |-- timestamp: integer (nullable = true)\n",
      "\n"
     ]
    }
   ],
   "source": [
    "movies.printSchema()\n",
    "ratings.printSchema()"
   ]
  },
  {
   "cell_type": "code",
   "execution_count": 129,
   "metadata": {},
   "outputs": [
    {
     "name": "stdout",
     "output_type": "stream",
     "text": [
      "Nombre total de films : 9742\n",
      "Nombre total de notes : 100836\n"
     ]
    }
   ],
   "source": [
    "print(f\"Nombre total de films : {movies.count()}\")\n",
    "print(f\"Nombre total de notes : {ratings.count()}\")"
   ]
  },
  {
   "cell_type": "code",
   "execution_count": 130,
   "metadata": {},
   "outputs": [
    {
     "name": "stdout",
     "output_type": "stream",
     "text": [
      "Nombre d'utilisateurs uniques : 610\n",
      "Nombre de films notés : 9724\n"
     ]
    }
   ],
   "source": [
    "print(f\"Nombre d'utilisateurs uniques : {ratings.select('userId').distinct().count()}\")\n",
    "print(f\"Nombre de films notés : {ratings.select('movieId').distinct().count()}\")"
   ]
  },
  {
   "cell_type": "markdown",
   "metadata": {},
   "source": [
    "Cette étape affiche les schémas des deux ensembles de données pour mieux comprendre leur structure. Ensuite, nous comptons le nombre total de films, le nombre total de notes, le nombre d'utilisateurs uniques et le nombre de films notés."
   ]
  },
  {
   "cell_type": "markdown",
   "metadata": {},
   "source": [
    "## Statistiques descriptives\n"
   ]
  },
  {
   "cell_type": "markdown",
   "metadata": {},
   "source": [
    "Affichage du nombre de notation par films."
   ]
  },
  {
   "cell_type": "code",
   "execution_count": 131,
   "metadata": {},
   "outputs": [
    {
     "name": "stdout",
     "output_type": "stream",
     "text": [
      "+-------+-------------+\n",
      "|movieId|ratings_count|\n",
      "+-------+-------------+\n",
      "|   1580|          165|\n",
      "|   2366|           25|\n",
      "|   3175|           75|\n",
      "|   1088|           42|\n",
      "|  32460|            4|\n",
      "|  44022|           23|\n",
      "|  96488|            4|\n",
      "|   1238|            9|\n",
      "|   1342|           11|\n",
      "|   1591|           26|\n",
      "|   1645|           51|\n",
      "|   4519|            9|\n",
      "|   2142|           10|\n",
      "|    471|           40|\n",
      "|   3997|           12|\n",
      "|    833|            6|\n",
      "|   3918|            9|\n",
      "|   7982|            4|\n",
      "|   1959|           15|\n",
      "|  68135|           10|\n",
      "+-------+-------------+\n",
      "only showing top 20 rows\n",
      "\n"
     ]
    }
   ],
   "source": [
    "ratings_count = ratings.groupBy(\"movieId\").agg(count(\"rating\").alias(\"ratings_count\"))\n",
    "ratings_count.show()"
   ]
  },
  {
   "cell_type": "markdown",
   "metadata": {},
   "source": [
    "Affichage de la répartition des notes données par les utilisateurs."
   ]
  },
  {
   "cell_type": "code",
   "execution_count": 132,
   "metadata": {},
   "outputs": [
    {
     "name": "stdout",
     "output_type": "stream",
     "text": [
      "+-------+------------------+\n",
      "|summary|            rating|\n",
      "+-------+------------------+\n",
      "|  count|            100836|\n",
      "|   mean| 3.501556983616962|\n",
      "| stddev|1.0425292390606342|\n",
      "|    min|               0.5|\n",
      "|    max|               5.0|\n",
      "+-------+------------------+\n",
      "\n"
     ]
    }
   ],
   "source": [
    "ratings.describe(\"rating\").show()"
   ]
  },
  {
   "cell_type": "code",
   "execution_count": 133,
   "metadata": {},
   "outputs": [
    {
     "name": "stdout",
     "output_type": "stream",
     "text": [
      "+------+-----+\n",
      "|rating|count|\n",
      "+------+-----+\n",
      "|   0.5| 1370|\n",
      "|   1.0| 2811|\n",
      "|   1.5| 1791|\n",
      "|   2.0| 7551|\n",
      "|   2.5| 5550|\n",
      "|   3.0|20047|\n",
      "|   3.5|13136|\n",
      "|   4.0|26818|\n",
      "|   4.5| 8551|\n",
      "|   5.0|13211|\n",
      "+------+-----+\n",
      "\n"
     ]
    }
   ],
   "source": [
    "from pyspark.sql.functions import col\n",
    "ratings.groupBy(\"rating\").count().orderBy(col(\"rating\")).show()"
   ]
  },
  {
   "cell_type": "code",
   "execution_count": 134,
   "metadata": {},
   "outputs": [
    {
     "name": "stdout",
     "output_type": "stream",
     "text": [
      "+-------+-----------------+------------+\n",
      "|movieId|       avg_rating|count_rating|\n",
      "+-------+-----------------+------------+\n",
      "|   1041|4.590909090909091|          11|\n",
      "|   3451|4.545454545454546|          11|\n",
      "|   1178|4.541666666666667|          12|\n",
      "|   1104|            4.475|          20|\n",
      "|   2360|4.458333333333333|          12|\n",
      "|   1217|4.433333333333334|          15|\n",
      "|    318|4.429022082018927|         317|\n",
      "|    951|4.392857142857143|          14|\n",
      "|   1927|             4.35|          10|\n",
      "|    922|4.333333333333333|          27|\n",
      "+-------+-----------------+------------+\n",
      "only showing top 10 rows\n",
      "\n"
     ]
    }
   ],
   "source": [
    "best_movies = ratings.groupBy(\"movieId\") \\\n",
    "    .agg(avg(\"rating\").alias(\"avg_rating\"), count(\"rating\").alias(\"count_rating\")) \\\n",
    "    .filter(\"count_rating >= 10\") \\\n",
    "    .orderBy(col(\"avg_rating\").desc())\n",
    "best_movies.show(10)"
   ]
  },
  {
   "cell_type": "code",
   "execution_count": 135,
   "metadata": {},
   "outputs": [
    {
     "name": "stdout",
     "output_type": "stream",
     "text": [
      "+------------------+\n",
      "|        avg(count)|\n",
      "+------------------+\n",
      "|10.369806663924312|\n",
      "+------------------+\n",
      "\n"
     ]
    }
   ],
   "source": [
    "avg_ratings_per_movie = ratings.groupBy(\"movieId\").count().agg({\"count\": \"avg\"})\n",
    "avg_ratings_per_movie.show()"
   ]
  },
  {
   "cell_type": "code",
   "execution_count": 136,
   "metadata": {},
   "outputs": [
    {
     "name": "stdout",
     "output_type": "stream",
     "text": [
      "+------------------+-----+\n",
      "|             genre|count|\n",
      "+------------------+-----+\n",
      "|             Drama| 4361|\n",
      "|            Comedy| 3756|\n",
      "|          Thriller| 1894|\n",
      "|            Action| 1828|\n",
      "|           Romance| 1596|\n",
      "|         Adventure| 1263|\n",
      "|             Crime| 1199|\n",
      "|            Sci-Fi|  980|\n",
      "|            Horror|  978|\n",
      "|           Fantasy|  779|\n",
      "|          Children|  664|\n",
      "|         Animation|  611|\n",
      "|           Mystery|  573|\n",
      "|       Documentary|  440|\n",
      "|               War|  382|\n",
      "|           Musical|  334|\n",
      "|           Western|  167|\n",
      "|              IMAX|  158|\n",
      "|         Film-Noir|   87|\n",
      "|(no genres listed)|   34|\n",
      "+------------------+-----+\n",
      "\n"
     ]
    }
   ],
   "source": [
    "movies_genres = movies.withColumn(\"genre\", explode(split(col(\"genres\"), \"\\\\|\")))\n",
    "movies_genres.groupBy(\"genre\").count().orderBy(col(\"count\").desc()).show()\n"
   ]
  },
  {
   "cell_type": "markdown",
   "metadata": {},
   "source": [
    "Dans cette étape, nous affichons la répartition des notes données par les utilisateurs. Nous utilisons groupBy pour regrouper les notes par valeurs uniques et les compter. Ensuite, nous affichons les films les mieux notés en calculant la note moyenne (avg_rating) et le nombre de notes (count_rating) pour chaque film. Nous filtrons pour inclure uniquement les films avec au moins 10 notes. Nous calculons également la moyenne des évaluations par film et explorons les genres de films en décomposant les genres multiples en lignes distinctes (explode et split)."
   ]
  },
  {
   "cell_type": "code",
   "execution_count": 137,
   "metadata": {},
   "outputs": [
    {
     "name": "stdout",
     "output_type": "stream",
     "text": [
      "+-------+--------------------+--------------------+\n",
      "|movieId|               title|              genres|\n",
      "+-------+--------------------+--------------------+\n",
      "|      1|    Toy Story (1995)|Adventure|Animati...|\n",
      "|      2|      Jumanji (1995)|Adventure|Childre...|\n",
      "|      3|Grumpier Old Men ...|      Comedy|Romance|\n",
      "|      4|Waiting to Exhale...|Comedy|Drama|Romance|\n",
      "|      5|Father of the Bri...|              Comedy|\n",
      "|      6|         Heat (1995)|Action|Crime|Thri...|\n",
      "|      7|      Sabrina (1995)|      Comedy|Romance|\n",
      "|      8| Tom and Huck (1995)|  Adventure|Children|\n",
      "|      9| Sudden Death (1995)|              Action|\n",
      "|     10|    GoldenEye (1995)|Action|Adventure|...|\n",
      "|     11|American Presiden...|Comedy|Drama|Romance|\n",
      "|     12|Dracula: Dead and...|       Comedy|Horror|\n",
      "|     13|        Balto (1995)|Adventure|Animati...|\n",
      "|     14|        Nixon (1995)|               Drama|\n",
      "|     15|Cutthroat Island ...|Action|Adventure|...|\n",
      "|     16|       Casino (1995)|         Crime|Drama|\n",
      "|     17|Sense and Sensibi...|       Drama|Romance|\n",
      "|     18|   Four Rooms (1995)|              Comedy|\n",
      "|     19|Ace Ventura: When...|              Comedy|\n",
      "|     20|  Money Train (1995)|Action|Comedy|Cri...|\n",
      "+-------+--------------------+--------------------+\n",
      "only showing top 20 rows\n",
      "\n"
     ]
    }
   ],
   "source": [
    "movies=movies.na.drop()\n",
    "movies.show()"
   ]
  },
  {
   "cell_type": "code",
   "execution_count": 138,
   "metadata": {},
   "outputs": [
    {
     "name": "stdout",
     "output_type": "stream",
     "text": [
      "+------+-------+------+---------+\n",
      "|userId|movieId|rating|timestamp|\n",
      "+------+-------+------+---------+\n",
      "|     1|      1|   4.0|964982703|\n",
      "|     1|      3|   4.0|964981247|\n",
      "|     1|      6|   4.0|964982224|\n",
      "|     1|     47|   5.0|964983815|\n",
      "|     1|     50|   5.0|964982931|\n",
      "|     1|     70|   3.0|964982400|\n",
      "|     1|    101|   5.0|964980868|\n",
      "|     1|    110|   4.0|964982176|\n",
      "|     1|    151|   5.0|964984041|\n",
      "|     1|    157|   5.0|964984100|\n",
      "|     1|    163|   5.0|964983650|\n",
      "|     1|    216|   5.0|964981208|\n",
      "|     1|    223|   3.0|964980985|\n",
      "|     1|    231|   5.0|964981179|\n",
      "|     1|    235|   4.0|964980908|\n",
      "|     1|    260|   5.0|964981680|\n",
      "|     1|    296|   3.0|964982967|\n",
      "|     1|    316|   3.0|964982310|\n",
      "|     1|    333|   5.0|964981179|\n",
      "|     1|    349|   4.0|964982563|\n",
      "+------+-------+------+---------+\n",
      "only showing top 20 rows\n",
      "\n"
     ]
    }
   ],
   "source": [
    "ratings=ratings.na.drop()\n",
    "ratings.show()"
   ]
  },
  {
   "cell_type": "code",
   "execution_count": 139,
   "metadata": {},
   "outputs": [
    {
     "name": "stdout",
     "output_type": "stream",
     "text": [
      "+-------+--------------------+--------------------+------+------+---------+\n",
      "|movieId|               title|              genres|userId|rating|timestamp|\n",
      "+-------+--------------------+--------------------+------+------+---------+\n",
      "|      1|    Toy Story (1995)|Adventure|Animati...|     1|   4.0|964982703|\n",
      "|      3|Grumpier Old Men ...|      Comedy|Romance|     1|   4.0|964981247|\n",
      "|      6|         Heat (1995)|Action|Crime|Thri...|     1|   4.0|964982224|\n",
      "|     47|Seven (a.k.a. Se7...|    Mystery|Thriller|     1|   5.0|964983815|\n",
      "|     50|Usual Suspects, T...|Crime|Mystery|Thr...|     1|   5.0|964982931|\n",
      "|     70|From Dusk Till Da...|Action|Comedy|Hor...|     1|   3.0|964982400|\n",
      "|    101|Bottle Rocket (1996)|Adventure|Comedy|...|     1|   5.0|964980868|\n",
      "|    110|   Braveheart (1995)|    Action|Drama|War|     1|   4.0|964982176|\n",
      "|    151|      Rob Roy (1995)|Action|Drama|Roma...|     1|   5.0|964984041|\n",
      "|    157|Canadian Bacon (1...|          Comedy|War|     1|   5.0|964984100|\n",
      "|    163|    Desperado (1995)|Action|Romance|We...|     1|   5.0|964983650|\n",
      "|    216|Billy Madison (1995)|              Comedy|     1|   5.0|964981208|\n",
      "|    223|       Clerks (1994)|              Comedy|     1|   3.0|964980985|\n",
      "|    231|Dumb & Dumber (Du...|    Adventure|Comedy|     1|   5.0|964981179|\n",
      "|    235|      Ed Wood (1994)|        Comedy|Drama|     1|   4.0|964980908|\n",
      "|    260|Star Wars: Episod...|Action|Adventure|...|     1|   5.0|964981680|\n",
      "|    296| Pulp Fiction (1994)|Comedy|Crime|Dram...|     1|   3.0|964982967|\n",
      "|    316|     Stargate (1994)|Action|Adventure|...|     1|   3.0|964982310|\n",
      "|    333|    Tommy Boy (1995)|              Comedy|     1|   5.0|964981179|\n",
      "|    349|Clear and Present...|Action|Crime|Dram...|     1|   4.0|964982563|\n",
      "+-------+--------------------+--------------------+------+------+---------+\n",
      "only showing top 20 rows\n",
      "\n"
     ]
    }
   ],
   "source": [
    "movies_r=movies.join(ratings,on=\"movieId\",how=\"inner\")\n",
    "movies_r.show()"
   ]
  },
  {
   "cell_type": "markdown",
   "metadata": {},
   "source": [
    "Nous supprimons les valeurs nulles dans les deux ensembles de données (na.drop()). Ensuite, nous effectuons une jointure interne (inner join) des données de films et des évaluations sur la colonne movieId."
   ]
  },
  {
   "cell_type": "code",
   "execution_count": 140,
   "metadata": {},
   "outputs": [],
   "source": [
    "import pandas as pd\n",
    "import matplotlib.pyplot as plt\n",
    "import seaborn as sns\n"
   ]
  },
  {
   "cell_type": "markdown",
   "metadata": {},
   "source": [
    "## Visualisation des données"
   ]
  },
  {
   "cell_type": "markdown",
   "metadata": {},
   "source": [
    "### Convertion du dataframe Spark des ratings et création de l'histogramme de répartion des notes"
   ]
  },
  {
   "cell_type": "code",
   "execution_count": 141,
   "metadata": {},
   "outputs": [
    {
     "data": {
      "image/png": "[encoded data removed]",
      "text/plain": [
       "<Figure size 800x600 with 1 Axes>"
      ]
     },
     "metadata": {},
     "output_type": "display_data"
    }
   ],
   "source": [
    "\n",
    "ratings_pd = ratings.select(\"rating\").toPandas()\n",
    "\n",
    "plt.figure(figsize=(8, 6))\n",
    "sns.histplot(ratings_pd['rating'], bins=10, kde=True, color='blue')\n",
    "plt.title(\"Répartition des notes\", fontsize=15)\n",
    "plt.xlabel(\"Notes\", fontsize=12)\n",
    "plt.ylabel(\"Nombre d'occurences\", fontsize=12)\n",
    "plt.show()\n"
   ]
  },
  {
   "cell_type": "markdown",
   "metadata": {},
   "source": [
    "### Genres les plus populaires"
   ]
  },
  {
   "cell_type": "code",
   "execution_count": 142,
   "metadata": {},
   "outputs": [
    {
     "data": {
      "image/png": "[encoded data removed]",
      "text/plain": [
       "<Figure size 1000x600 with 1 Axes>"
      ]
     },
     "metadata": {},
     "output_type": "display_data"
    }
   ],
   "source": [
    "movies_genres_pd = movies_genres.groupBy(\"genre\").count().orderBy(col(\"count\").desc()).toPandas()\n",
    "\n",
    "plt.figure(figsize=(10, 6))\n",
    "sns.barplot(data=movies_genres_pd, x=\"count\", y=\"genre\", palette=\"viridis\")\n",
    "plt.title(\"Nombre de films par genre\", fontsize=15)\n",
    "plt.xlabel(\"Nombre de films\", fontsize=12)\n",
    "plt.ylabel(\"Genre\", fontsize=12)\n",
    "plt.show()\n"
   ]
  },
  {
   "cell_type": "markdown",
   "metadata": {},
   "source": [
    "### Top 10 des films les plus notés"
   ]
  },
  {
   "cell_type": "code",
   "execution_count": 143,
   "metadata": {},
   "outputs": [
    {
     "data": {
      "image/png": "[encoded data removed]",
      "text/plain": [
       "<Figure size 1000x600 with 1 Axes>"
      ]
     },
     "metadata": {},
     "output_type": "display_data"
    }
   ],
   "source": [
    "best_movies_pd = best_movies.join(movies, on=\"movieId\").select(\"title\", \"avg_rating\").orderBy(col(\"avg_rating\").desc()).limit(10).toPandas()\n",
    "\n",
    "plt.figure(figsize=(10, 6))\n",
    "sns.barplot(data=best_movies_pd, x=\"avg_rating\", y=\"title\", palette=\"coolwarm\")\n",
    "plt.title(\"Top 10 des films les mieux notés\", fontsize=15)\n",
    "plt.xlabel(\"Note moyenne\", fontsize=12)\n",
    "plt.ylabel(\"Titre du film\", fontsize=12)\n",
    "plt.show()\n"
   ]
  },
  {
   "cell_type": "markdown",
   "metadata": {},
   "source": [
    "## Modèle de recommandation avec ALS"
   ]
  },
  {
   "cell_type": "markdown",
   "metadata": {},
   "source": [
    "### Entraînement du modèle ALS"
   ]
  },
  {
   "cell_type": "code",
   "execution_count": 144,
   "metadata": {},
   "outputs": [],
   "source": [
    "from pyspark.ml.evaluation import RegressionEvaluator\n",
    "from pyspark.ml.recommendation import ALS\n",
    "from pyspark.sql import Row"
   ]
  },
  {
   "cell_type": "markdown",
   "metadata": {},
   "source": [
    "Nous utilisons l'algorithme ALS (Alternating Least Squares) pour créer un modèle de recommandation. ALS se base uniquement sur les notes attribuées par les utilisateurs.\n",
    "\n",
    "Nous divisons les données en un ensemble d'entraînement et un ensemble de test, entraînons le modèle, et faisons des prédictions."
   ]
  },
  {
   "cell_type": "code",
   "execution_count": 145,
   "metadata": {},
   "outputs": [],
   "source": [
    "x_train,x_test= movies_r.randomSplit([0.8,0.2])\n",
    "als=ALS(maxIter=10, \n",
    "        regParam=0.1,\n",
    "        userCol=\"userId\",\n",
    "        itemCol=\"movieId\",\n",
    "        ratingCol=\"rating\",\n",
    "        coldStartStrategy=\"drop\",\n",
    "        rank=10)"
   ]
  },
  {
   "cell_type": "markdown",
   "metadata": {},
   "source": [
    "Nous divisons les données en ensembles d'entraînement (x_train) et de test (x_test) avec une répartition de 80% pour l'entraînement et 20% pour le test.\n",
    "\n",
    "Nous utilisons l'algorithme ALS pour entraîner un modèle de recommandation. Pour gérer les valeurs manquantes, nous appliquons l'hyperparamètre coldStartStrategy=\"drop\", qui supprime les prédictions lorsque ALS ne dispose pas d'assez d'informations pour généraliser correctement.\n",
    "\n",
    "Afin d'optimiser la performance du modèle, nous testons plusieurs valeurs pour les hyperparamètres suivants :\n",
    "\n",
    "- maxIter = 10 : Un nombre d'itérations suffisant pour assurer la convergence du modèle sans risquer de surajustement.\n",
    "- regParam = 0.1 : Une régularisation plus forte qui prévient le surajustement en limitant les valeurs extrêmes.\n",
    "- rank = 10 : Un nombre optimal de facteurs latents permettant de mieux capturer les relations complexes entre les films et les préférences des utilisateurs.\n",
    "Le modèle est ensuite ajusté (fit) sur les données d'entraînement et évalué sur l'ensemble de test. "
   ]
  },
  {
   "cell_type": "markdown",
   "metadata": {},
   "source": [
    "Nous générons des recommandations pour tous les utilisateurs et tous les films, et nous les affichons.\n"
   ]
  },
  {
   "cell_type": "code",
   "execution_count": 146,
   "metadata": {},
   "outputs": [
    {
     "name": "stdout",
     "output_type": "stream",
     "text": [
      "+-------+--------------------+--------------------+------+------+----------+----------+\n",
      "|movieId|               title|              genres|userId|rating| timestamp|prediction|\n",
      "+-------+--------------------+--------------------+------+------+----------+----------+\n",
      "|    527|Schindler's List ...|           Drama|War|   463|   4.0|1145460304| 3.5103657|\n",
      "|    552|Three Musketeers,...|Action|Adventure|...|   463|   3.5|1145459400| 3.1223931|\n",
      "|    858|Godfather, The (1...|         Crime|Drama|   496|   5.0|1415166629| 4.0906386|\n",
      "|   1221|Godfather: Part I...|         Crime|Drama|   463|   4.5|1145460455| 3.9867713|\n",
      "|   3668|Romeo and Juliet ...|       Drama|Romance|   496|   3.0|1415165655| 3.0145547|\n",
      "|   3753| Patriot, The (2000)|    Action|Drama|War|   463|   4.0|1145460023| 3.8668902|\n",
      "|   4306|        Shrek (2001)|Adventure|Animati...|   496|   3.0|1415520455| 3.1411948|\n",
      "|   4308| Moulin Rouge (2001)|Drama|Musical|Rom...|   148|   4.0|1482548613| 3.5011911|\n",
      "|   5816|Harry Potter and ...|   Adventure|Fantasy|   148|   4.0|1482548755| 3.4864078|\n",
      "|   6333|X2: X-Men United ...|Action|Adventure|...|   471|   2.5|1496671903| 3.0559626|\n",
      "|   6377| Finding Nemo (2003)|Adventure|Animati...|   463|   3.5|1145460028|  3.600681|\n",
      "|   6539|Pirates of the Ca...|Action|Adventure|...|   463|   3.5|1145459443| 3.7884924|\n",
      "|   8622|Fahrenheit 9/11 (...|         Documentary|   463|   3.5|1145460291|  3.398764|\n",
      "|   8640|  King Arthur (2004)|Action|Adventure|...|   496|   2.0|1415165826| 2.6691563|\n",
      "|  40815|Harry Potter and ...|Adventure|Fantasy...|   148|   4.0|1482548512| 3.7144022|\n",
      "|  44191|V for Vendetta (2...|Action|Sci-Fi|Thr...|   148|   4.0|1482550089| 3.4834907|\n",
      "|  44191|V for Vendetta (2...|Action|Sci-Fi|Thr...|   471|   3.5|1496671954| 3.6849751|\n",
      "|  58559|Dark Knight, The ...|Action|Crime|Dram...|   496|   4.5|1415520420|  3.941589|\n",
      "|  60069|       WALL·E (2008)|Adventure|Animati...|   148|   4.5|1482548484| 3.8150015|\n",
      "|  68954|           Up (2009)|Adventure|Animati...|   148|   4.0|1482548482| 3.5326476|\n",
      "+-------+--------------------+--------------------+------+------+----------+----------+\n",
      "only showing top 20 rows\n",
      "\n"
     ]
    }
   ],
   "source": [
    "model_als=als.fit(x_train)\n",
    "pred=model_als.transform(x_test)\n",
    "pred.show()"
   ]
  },
  {
   "cell_type": "markdown",
   "metadata": {},
   "source": [
    "### Evaluation du modèle"
   ]
  },
  {
   "cell_type": "markdown",
   "metadata": {},
   "source": [
    "#### RMSE"
   ]
  },
  {
   "cell_type": "code",
   "execution_count": 147,
   "metadata": {},
   "outputs": [
    {
     "name": "stdout",
     "output_type": "stream",
     "text": [
      "Root Mean Squared Error (RMSE): 0.8860918933324715\n"
     ]
    }
   ],
   "source": [
    "eval=RegressionEvaluator(metricName=\"rmse\",labelCol=\"rating\",predictionCol=\"prediction\")\n",
    "rmse = eval.evaluate(pred)\n",
    "print(f\"Root Mean Squared Error (RMSE): {rmse}\")\n"
   ]
  },
  {
   "cell_type": "markdown",
   "metadata": {},
   "source": [
    "Le Root Mean Squared Error (RMSE) indique que l'erreur moyenne des prédictions du modèle est d'environ 0.88 points par rapport aux notes réelles, sur une échelle de 0 à 5.  Un RMSE inférieur à 1 montre que le modèle est capable de faire des prédictions très proches des évaluations réelles des utilisateurs.\n"
   ]
  },
  {
   "cell_type": "markdown",
   "metadata": {},
   "source": [
    "#### MAE"
   ]
  },
  {
   "cell_type": "code",
   "execution_count": 148,
   "metadata": {},
   "outputs": [
    {
     "name": "stdout",
     "output_type": "stream",
     "text": [
      "Mean Absolute Error (MAE): 0.6808265310561792\n"
     ]
    }
   ],
   "source": [
    "mae_evaluator = RegressionEvaluator(metricName=\"mae\", labelCol=\"rating\", predictionCol=\"prediction\")\n",
    "mae = mae_evaluator.evaluate(pred)\n",
    "print(f\"Mean Absolute Error (MAE): {mae}\")\n"
   ]
  },
  {
   "cell_type": "markdown",
   "metadata": {},
   "source": [
    "Plus la MAE est faible, plus le modèle est précis.\n",
    "Une MAE de 0.68 signifie que, en moyenne, la prédiction de notre modèle ALS est décalée de 0.68 points par rapport à la note réelle attribuée par l’utilisateur.\n",
    "Une MAE entre 0,5 et 1 est un résultat correct, tandis qu'une MAE < 0,5 est considéré comme très bon. "
   ]
  },
  {
   "cell_type": "markdown",
   "metadata": {},
   "source": [
    "### Test de l'ALS avec filtre sur les films peu notés"
   ]
  },
  {
   "cell_type": "markdown",
   "metadata": {},
   "source": [
    "Après avoir entraîner et evaluer le modèle ALS, je souhaite tester l'impact d'un filtre qui exclut les films qui n'ont pas été beaucoup notés. \n",
    "Les films avec peu de notes peuvent fausser les recommandations, car ils ne reflètent pas vraiment les préférences des utilisateurs. En filtrant ces films, on vise à améliorer la qualité et la pertinence des recommandations.\n"
   ]
  },
  {
   "cell_type": "markdown",
   "metadata": {},
   "source": [
    "#### Processus"
   ]
  },
  {
   "cell_type": "markdown",
   "metadata": {},
   "source": [
    "- Calculer les notations : compter le nombre de notes par film\n",
    "- Définir un seuil (10 dans norre cas qui veut dire que l'on recupère que les films qui ont été notés au moins 10 fois)\n",
    "- Filtrer les films : on élimine les films qui n'atteignent pas ce seuil\n",
    "- Application de l'ALS : réentraînement du modèle ALS avec les données filtrés\n",
    "- Évaluer les performances : avec le RMSE et le MAE"
   ]
  },
  {
   "cell_type": "code",
   "execution_count": 149,
   "metadata": {},
   "outputs": [
    {
     "name": "stdout",
     "output_type": "stream",
     "text": [
      "+-------+--------------------+--------------------+------+------+---------+-------------+\n",
      "|movieId|               title|              genres|userId|rating|timestamp|ratings_count|\n",
      "+-------+--------------------+--------------------+------+------+---------+-------------+\n",
      "|      1|    Toy Story (1995)|Adventure|Animati...|     1|   4.0|964982703|          215|\n",
      "|      3|Grumpier Old Men ...|      Comedy|Romance|     1|   4.0|964981247|           52|\n",
      "|      6|         Heat (1995)|Action|Crime|Thri...|     1|   4.0|964982224|          102|\n",
      "|     47|Seven (a.k.a. Se7...|    Mystery|Thriller|     1|   5.0|964983815|          203|\n",
      "|     50|Usual Suspects, T...|Crime|Mystery|Thr...|     1|   5.0|964982931|          204|\n",
      "|     70|From Dusk Till Da...|Action|Comedy|Hor...|     1|   3.0|964982400|           55|\n",
      "|    101|Bottle Rocket (1996)|Adventure|Comedy|...|     1|   5.0|964980868|           23|\n",
      "|    110|   Braveheart (1995)|    Action|Drama|War|     1|   4.0|964982176|          237|\n",
      "|    151|      Rob Roy (1995)|Action|Drama|Roma...|     1|   5.0|964984041|           44|\n",
      "|    157|Canadian Bacon (1...|          Comedy|War|     1|   5.0|964984100|           11|\n",
      "|    163|    Desperado (1995)|Action|Romance|We...|     1|   5.0|964983650|           66|\n",
      "|    216|Billy Madison (1995)|              Comedy|     1|   5.0|964981208|           49|\n",
      "|    223|       Clerks (1994)|              Comedy|     1|   3.0|964980985|          104|\n",
      "|    231|Dumb & Dumber (Du...|    Adventure|Comedy|     1|   5.0|964981179|          133|\n",
      "|    235|      Ed Wood (1994)|        Comedy|Drama|     1|   4.0|964980908|           70|\n",
      "|    260|Star Wars: Episod...|Action|Adventure|...|     1|   5.0|964981680|          251|\n",
      "|    296| Pulp Fiction (1994)|Comedy|Crime|Dram...|     1|   3.0|964982967|          307|\n",
      "|    316|     Stargate (1994)|Action|Adventure|...|     1|   3.0|964982310|          140|\n",
      "|    333|    Tommy Boy (1995)|              Comedy|     1|   5.0|964981179|           50|\n",
      "|    349|Clear and Present...|Action|Crime|Dram...|     1|   4.0|964982563|          110|\n",
      "+-------+--------------------+--------------------+------+------+---------+-------------+\n",
      "only showing top 20 rows\n",
      "\n"
     ]
    }
   ],
   "source": [
    "threshold = 10\n",
    "popular_movies = ratings_count.filter(ratings_count.ratings_count >= threshold)\n",
    "movies_r_filter = movies_r.join(popular_movies, on=\"movieId\", how=\"inner\")\n",
    "movies_r_filter.show()"
   ]
  },
  {
   "cell_type": "code",
   "execution_count": null,
   "metadata": {},
   "outputs": [
    {
     "name": "stdout",
     "output_type": "stream",
     "text": [
      "+-------+----------------+--------------------+------+------+----------+-------------+----------+\n",
      "|movieId|           title|              genres|userId|rating| timestamp|ratings_count|prediction|\n",
      "+-------+----------------+--------------------+------+------+----------+-------------+----------+\n",
      "|      1|Toy Story (1995)|Adventure|Animati...|     5|   4.0| 847434962|          215|  4.120083|\n",
      "|      1|Toy Story (1995)|Adventure|Animati...|     7|   4.5|1106635946|          215| 3.9569266|\n",
      "|      1|Toy Story (1995)|Adventure|Animati...|    17|   4.5|1305696483|          215| 3.9942489|\n",
      "|      1|Toy Story (1995)|Adventure|Animati...|    32|   3.0| 856736119|          215|  4.023416|\n",
      "|      1|Toy Story (1995)|Adventure|Animati...|    40|   5.0| 832058959|          215| 3.9645314|\n",
      "|      1|Toy Story (1995)|Adventure|Animati...|    66|   4.0|1104643957|          215|  4.225182|\n",
      "|      1|Toy Story (1995)|Adventure|Animati...|    68|   2.5|1158531426|          215| 3.6631193|\n",
      "|      1|Toy Story (1995)|Adventure|Animati...|    71|   5.0| 864737933|          215| 3.8994093|\n",
      "|      1|Toy Story (1995)|Adventure|Animati...|    73|   4.5|1464196374|          215| 3.6972165|\n",
      "|      1|Toy Story (1995)|Adventure|Animati...|    76|   0.5|1439165548|          215| 2.1622987|\n",
      "|      1|Toy Story (1995)|Adventure|Animati...|    82|   2.5|1084467729|          215|  3.521511|\n",
      "|      1|Toy Story (1995)|Adventure|Animati...|    89|   3.0|1520408314|          215| 2.8734953|\n",
      "|      1|Toy Story (1995)|Adventure|Animati...|   107|   4.0| 829322340|          215| 4.3230257|\n",
      "|      1|Toy Story (1995)|Adventure|Animati...|   121|   4.0| 847656180|          215| 3.4553733|\n",
      "|      1|Toy Story (1995)|Adventure|Animati...|   134|   3.0| 832841103|          215|  3.807334|\n",
      "|      1|Toy Story (1995)|Adventure|Animati...|   153|   2.0|1525548642|          215| 1.7494292|\n",
      "|      1|Toy Story (1995)|Adventure|Animati...|   155|   3.0| 961861723|          215|  3.739909|\n",
      "|      1|Toy Story (1995)|Adventure|Animati...|   169|   4.5|1059427918|          215|  4.698755|\n",
      "|      1|Toy Story (1995)|Adventure|Animati...|   216|   3.0| 975211713|          215|  3.859171|\n",
      "|      1|Toy Story (1995)|Adventure|Animati...|   217|   4.0| 955942540|          215| 3.3882616|\n",
      "+-------+----------------+--------------------+------+------+----------+-------------+----------+\n",
      "only showing top 20 rows\n",
      "\n"
     ]
    }
   ],
   "source": [
    "x_train, x_test = movies_r_filter.randomSplit([0.8, 0.2])\n",
    "\n",
    "als2 = ALS(maxIter=10, \n",
    "            regParam=0.1,\n",
    "            userCol=\"userId\",\n",
    "            itemCol=\"movieId\",\n",
    "            ratingCol=\"rating\",\n",
    "            coldStartStrategy=\"drop\",\n",
    "            rank=10)\n",
    "\n",
    "model_als2 = als2.fit(x_train)\n",
    "\n",
    "pred2 = model_als2.transform(x_test)\n",
    "pred2.show()\n"
   ]
  },
  {
   "cell_type": "code",
   "execution_count": 157,
   "metadata": {},
   "outputs": [
    {
     "name": "stdout",
     "output_type": "stream",
     "text": [
      "Root Mean Squared Error (RMSE): 0.8384928371422417\n",
      "Mean Absolute Error (MAE): 0.6478694564471419\n"
     ]
    }
   ],
   "source": [
    "eval = RegressionEvaluator(metricName=\"rmse\", labelCol=\"rating\", predictionCol=\"prediction\")\n",
    "rmse = eval.evaluate(pred)\n",
    "print(f\"Root Mean Squared Error (RMSE): {rmse}\")\n",
    "\n",
    "mae_evaluator = RegressionEvaluator(metricName=\"mae\", labelCol=\"rating\", predictionCol=\"prediction\")\n",
    "mae = mae_evaluator.evaluate(pred)\n",
    "print(f\"Mean Absolute Error (MAE): {mae}\")"
   ]
  },
  {
   "cell_type": "markdown",
   "metadata": {},
   "source": [
    "#### Impact du filtrage "
   ]
  },
  {
   "cell_type": "markdown",
   "metadata": {},
   "source": [
    "Bien que l'amélioration des métriques après le filtrage des films peu notés soit positive, la différence entre les résultats avant et après le filtrage n'est pas très marquée.\n",
    "\n",
    "La réduction du RMSE (de 0.8861 à 0.8385) et du MAE (de 0.6808 à 0.6479) indique une légère amélioration, mais la différence n'est pas énorme. Cela suggère que le modèle est déjà relativement performant même sans filtrage.\n",
    "\n",
    "En augmentant le seuil de notation, on observe généralement que les métriques d'erreur (RMSE et MAE) ont tendance à diminuer, ce qui indique que le modèle est en mesure de faire de meilleures prédictions sur des films plus populaires.\n",
    "Cependant, il est essentiel de trouver un équilibre. Si le seuil est trop élevé, cela peut conduire à l'élimination d'un nombre significatif de films, limitant ainsi la diversité des recommandations. Cela pourrait restreindre les options pour les utilisateurs, surtout pour ceux qui ont des goûts variés ou qui recherchent des films moins connus.\n",
    "\n",
    "Par la suite, nous allons explorer d'autres approches, telles que TF-IDF pour la recommandation basée sur le contenu et KNN (K-Nearest Neighbors) pour la recommandation basée sur les utilisateurs. Ces méthodes complémentaires me permettront d'enrichir les recommandations et d'améliorer encore l'expérience utilisateur."
   ]
  },
  {
   "cell_type": "markdown",
   "metadata": {},
   "source": [
    "### Recommandations de films pour tous les utilisateurs "
   ]
  },
  {
   "cell_type": "code",
   "execution_count": 151,
   "metadata": {},
   "outputs": [
    {
     "name": "stdout",
     "output_type": "stream",
     "text": [
      "+------+----------------------------------------------------------------------------------------------------+\n",
      "|userId|recommendations                                                                                     |\n",
      "+------+----------------------------------------------------------------------------------------------------+\n",
      "|1     |[{720, 5.7742825}, {179135, 5.615427}, {138966, 5.615427}, {134796, 5.615427}, {117531, 5.615427}]  |\n",
      "|2     |[{1274, 4.9150944}, {5075, 4.9082074}, {131724, 4.9063945}, {7842, 4.8153443}, {53123, 4.7677064}]  |\n",
      "|3     |[{4821, 5.2839694}, {26865, 5.1721997}, {70946, 5.140527}, {3837, 5.0732484}, {6835, 4.927892}]     |\n",
      "|4     |[{52435, 5.2029424}, {106100, 5.1340976}, {2067, 5.1306005}, {5060, 5.106106}, {1262, 5.054306}]    |\n",
      "|5     |[{25771, 5.367638}, {7700, 5.074832}, {898, 5.040386}, {7008, 5.0231056}, {132333, 4.9860153}]      |\n",
      "|6     |[{232, 5.0000515}, {106100, 4.8379645}, {47997, 4.828214}, {5466, 4.7524796}, {104374, 4.7360544}]  |\n",
      "|7     |[{25771, 5.237243}, {3030, 4.9867816}, {132333, 4.975169}, {5490, 4.975169}, {7063, 4.891632}]      |\n",
      "|8     |[{3200, 4.839437}, {132333, 4.7293253}, {5490, 4.7293253}, {2563, 4.7241945}, {177593, 4.598528}]   |\n",
      "|9     |[{48322, 5.144441}, {68945, 4.968465}, {3379, 4.968465}, {2202, 4.909995}, {1178, 4.7704453}]       |\n",
      "|10    |[{32892, 4.719974}, {71579, 4.6231833}, {1011, 4.621309}, {140110, 4.6108685}, {67618, 4.609563}]   |\n",
      "|11    |[{32892, 5.3649354}, {5867, 4.9762955}, {1272, 4.9599557}, {26133, 4.9431367}, {112804, 4.939671}]  |\n",
      "|12    |[{68073, 6.176513}, {106100, 6.0530486}, {32892, 5.9310684}, {2563, 5.9249477}, {67618, 5.886512}]  |\n",
      "|13    |[{5075, 5.332149}, {68945, 5.303188}, {3379, 5.303188}, {27611, 5.110516}, {80906, 5.078936}]       |\n",
      "|14    |[{103984, 4.7805133}, {86347, 4.7250686}, {3925, 4.7090497}, {177593, 4.645137}, {166534, 4.584872}]|\n",
      "|15    |[{112804, 5.042111}, {32892, 4.862687}, {1272, 4.779945}, {3685, 4.721573}, {26133, 4.7202287}]     |\n",
      "|16    |[{68945, 4.479825}, {3379, 4.479825}, {3030, 4.2794976}, {171495, 4.232245}, {96004, 4.2212133}]    |\n",
      "|17    |[{3200, 4.97026}, {171495, 4.959631}, {78836, 4.861077}, {68945, 4.845385}, {3379, 4.845385}]       |\n",
      "|18    |[{68945, 4.8785605}, {3379, 4.8785605}, {171495, 4.816173}, {3200, 4.7820415}, {177593, 4.6706624}] |\n",
      "|19    |[{3358, 4.245071}, {1223, 4.0730586}, {3925, 4.0006933}, {4642, 3.9887867}, {7008, 3.981524}]       |\n",
      "|20    |[{1411, 5.5726385}, {3200, 5.533294}, {68945, 5.52395}, {3379, 5.52395}, {1262, 5.432787}]          |\n",
      "+------+----------------------------------------------------------------------------------------------------+\n",
      "only showing top 20 rows\n",
      "\n"
     ]
    }
   ],
   "source": [
    "userRecs = model_als.recommendForAllUsers(5) \n",
    "userRecs.show(truncate=False)\n"
   ]
  },
  {
   "cell_type": "markdown",
   "metadata": {},
   "source": [
    "### Recommandations de films pour certains utilisateurs "
   ]
  },
  {
   "cell_type": "code",
   "execution_count": 152,
   "metadata": {},
   "outputs": [
    {
     "name": "stdout",
     "output_type": "stream",
     "text": [
      "+------+--------------------------------------------------------------------------------------------------+\n",
      "|userId|recommendations                                                                                   |\n",
      "+------+--------------------------------------------------------------------------------------------------+\n",
      "|1     |[{720, 5.7742825}, {179135, 5.615427}, {138966, 5.615427}, {134796, 5.615427}, {117531, 5.615427}]|\n",
      "|2     |[{1274, 4.9150944}, {5075, 4.9082074}, {131724, 4.9063945}, {7842, 4.8153443}, {53123, 4.7677064}]|\n",
      "|3     |[{4821, 5.2839694}, {26865, 5.1721997}, {70946, 5.140527}, {3837, 5.0732484}, {6835, 4.927892}]   |\n",
      "|4     |[{52435, 5.2029424}, {106100, 5.1340976}, {2067, 5.1306005}, {5060, 5.106106}, {1262, 5.054306}]  |\n",
      "|5     |[{25771, 5.367638}, {7700, 5.074832}, {898, 5.040386}, {7008, 5.0231056}, {132333, 4.9860153}]    |\n",
      "+------+--------------------------------------------------------------------------------------------------+\n",
      "\n"
     ]
    }
   ],
   "source": [
    "from pyspark.sql import Row\n",
    "users = [Row(userId=1), Row(userId=2), Row(userId=3), Row(userId=4), Row(userId=5)]\n",
    "fake_users_df = spark.createDataFrame(users)\n",
    "user_recommendations = model_als.recommendForAllUsers(5)\n",
    "user_recs = user_recommendations.filter(user_recommendations.userId.isin([1, 2, 3, 4, 5]))\n",
    "user_recs.show(truncate=False)"
   ]
  },
  {
   "cell_type": "markdown",
   "metadata": {},
   "source": [
    "Ici, nous pouvons voir les films recommandés pour cinq utilisateurs choisis fictifs (utilisateurs avec userId 1 à 5). Grâce à l'utilisation du modèle de recommandation ALS, nous avons généré des recommandations spécifiques pour ces utilisateurs, même s'ils n'ont pas d'historique d'évaluation dans notre jeu de données.\n",
    "\n",
    "Les recommandations sont filtrées pour ne montrer que les résultats pertinents pour ces utilisateurs fictifs. Ainsi, le DataFrame affiché nous donne un aperçu des films que le modèle recommande à chacun de ces utilisateurs, en se basant sur les préférences apprises à partir des données d'évaluation disponibles."
   ]
  },
  {
   "cell_type": "markdown",
   "metadata": {},
   "source": [
    "## Recommandations avec TF-IDF"
   ]
  },
  {
   "cell_type": "code",
   "execution_count": 153,
   "metadata": {},
   "outputs": [
    {
     "name": "stdout",
     "output_type": "stream",
     "text": [
      "+-------+----------------+--------------------+---------+\n",
      "|movieId|           title|              genres|    genre|\n",
      "+-------+----------------+--------------------+---------+\n",
      "|      1|Toy Story (1995)|Adventure|Animati...|Adventure|\n",
      "|      1|Toy Story (1995)|Adventure|Animati...|Animation|\n",
      "|      1|Toy Story (1995)|Adventure|Animati...| Children|\n",
      "|      1|Toy Story (1995)|Adventure|Animati...|   Comedy|\n",
      "|      1|Toy Story (1995)|Adventure|Animati...|  Fantasy|\n",
      "+-------+----------------+--------------------+---------+\n",
      "only showing top 5 rows\n",
      "\n"
     ]
    }
   ],
   "source": [
    "from pyspark.sql.functions import explode, split\n",
    "\n",
    "movies = movies.withColumn(\"genre\", explode(split(movies[\"genres\"], \"\\\\|\")))\n",
    "movies.show(5)\n"
   ]
  },
  {
   "cell_type": "code",
   "execution_count": 154,
   "metadata": {},
   "outputs": [
    {
     "name": "stdout",
     "output_type": "stream",
     "text": [
      "\n",
      "Films similaires à 'Toy Story (1995)':\n",
      " - Antz (1998)\n",
      " - Toy Story 2 (1999)\n",
      " - Adventures of Rocky and Bullwinkle, The (2000)\n",
      " - Emperor's New Groove, The (2000)\n",
      " - Monsters, Inc. (2001)\n"
     ]
    }
   ],
   "source": [
    "import pandas as pd\n",
    "from sklearn.feature_extraction.text import TfidfVectorizer\n",
    "from sklearn.metrics.pairwise import cosine_similarity\n",
    "\n",
    "# 1. Chargement des données\n",
    "def load_movies(path_csv):\n",
    "    \"\"\"\n",
    "    Charge le fichier CSV des films et retourne un DataFrame.\n",
    "    \"\"\"\n",
    "    return pd.read_csv(path_csv)\n",
    "\n",
    "\n",
    "# 2. Nettoyage des genres\n",
    "def prepare_genres(df, original_col=\"genres\", new_col=\"processed_genres\"):\n",
    "    \"\"\"\n",
    "    Transforme la colonne 'genres' en texte utilisable par TF-IDF.\n",
    "    Par exemple : \"Action|Comedy\" -> \"Action Comedy\".\n",
    "    \"\"\"\n",
    "    def format_genre_list(g):\n",
    "        if isinstance(g, str):\n",
    "            return \" \".join(g.split(\"|\"))\n",
    "        return \"\"\n",
    "    \n",
    "    df[new_col] = df[original_col].apply(format_genre_list)\n",
    "    return df\n",
    "\n",
    "\n",
    "# 3. Calcul de la matrice TF-IDF\n",
    "def build_tfidf_matrix(df, text_col=\"processed_genres\"):\n",
    "    \"\"\"\n",
    "    Construit la matrice TF-IDF à partir de la colonne textuelle spécifiée.\n",
    "    Retourne la matrice TF-IDF et l'objet vectorizer (optionnel si besoin).\n",
    "    \"\"\"\n",
    "    vectorizer = TfidfVectorizer()\n",
    "    tfidf_mat = vectorizer.fit_transform(df[text_col])\n",
    "    return tfidf_mat, vectorizer\n",
    "\n",
    "\n",
    "# 4. Matrice de similarité cosinus\n",
    "def compute_cosine_similarity_matrix(tfidf_mat):\n",
    "    \"\"\"\n",
    "    Calcule la matrice de similarité cosinus à partir de la matrice TF-IDF.\n",
    "    \"\"\"\n",
    "    return cosine_similarity(tfidf_mat, tfidf_mat)\n",
    "\n",
    "\n",
    "# 5. Mapping titre -> index\n",
    "def create_title_index_mapping(df, title_col=\"title\"):\n",
    "    \"\"\"\n",
    "    Crée une correspondance (titre du film) -> (index de la ligne).\n",
    "    \"\"\"\n",
    "    return pd.Series(df.index, index=df[title_col]).drop_duplicates()\n",
    "\n",
    "\n",
    "# 6. Fonction de recommandation\n",
    "def suggest_similar_movies(movie_title, df, similarity_matrix, title_index_map, top_n=5):\n",
    "    \"\"\"\n",
    "    Propose les films les plus similaires (top_n) au film donné.\n",
    "    Basé sur la similarité cosinus des genres TF-IDF.\n",
    "    \"\"\"\n",
    "    if movie_title not in title_index_map:\n",
    "        return [f\"Le film '{movie_title}' n'existe pas dans le dataset.\"]\n",
    "    \n",
    "    # Récupérer l'index du film\n",
    "    film_idx = title_index_map[movie_title]\n",
    "    \n",
    "    # Récupérer la liste (index_film, similarité) pour tout le dataset\n",
    "    sim_scores = list(enumerate(similarity_matrix[film_idx]))\n",
    "    \n",
    "    # Trier par similarité décroissante et enlever la première position (le film lui-même)\n",
    "    sim_scores = sorted(sim_scores, key=lambda x: x[1], reverse=True)[1:top_n+1]\n",
    "    \n",
    "    # Extraire les index des films similaires\n",
    "    neighbors_idx = [x[0] for x in sim_scores]\n",
    "    \n",
    "    # Retourner les titres correspondants\n",
    "    return df.loc[neighbors_idx, \"title\"].tolist()\n",
    "\n",
    "\n",
    "# ----- Partie exécution (Notebook) -----\n",
    "\n",
    "#\n",
    "movies_df = load_movies(\"ml-latest-small/movies.csv\")\n",
    "\n",
    "movies_df = prepare_genres(movies_df)\n",
    "\n",
    "# C. Construire la matrice TF-IDF\n",
    "tfidf_matrix, _ = build_tfidf_matrix(movies_df, text_col=\"processed_genres\")\n",
    "\n",
    "# D. Calculer la matrice de similarité\n",
    "similarity_matrix = compute_cosine_similarity_matrix(tfidf_matrix)\n",
    "\n",
    "# E. Générer le mapping titre -> index\n",
    "title_index_map = create_title_index_mapping(movies_df)\n",
    "\n",
    "# F. Faire un test de recommandation\n",
    "film_test = \"Toy Story (1995)\"\n",
    "suggestions = suggest_similar_movies(\n",
    "    movie_title=film_test, \n",
    "    df=movies_df, \n",
    "    similarity_matrix=similarity_matrix, \n",
    "    title_index_map=title_index_map, \n",
    "    top_n=5\n",
    ")\n",
    "\n",
    "print(f\"\\nFilms similaires à '{film_test}':\")\n",
    "for movie in suggestions:\n",
    "    print(f\" - {movie}\")"
   ]
  },
  {
   "cell_type": "markdown",
   "metadata": {},
   "source": [
    "### Evaluation du modèle"
   ]
  },
  {
   "cell_type": "markdown",
   "metadata": {},
   "source": [
    "### Recommandations de films pour certains utilisateurs "
   ]
  },
  {
   "cell_type": "markdown",
   "metadata": {},
   "source": [
    "## Recommandations avec KNN"
   ]
  },
  {
   "cell_type": "code",
   "execution_count": 155,
   "metadata": {},
   "outputs": [
    {
     "name": "stdout",
     "output_type": "stream",
     "text": [
      "Recommandations pour l'utilisateur 4:\n",
      " - Godfather, The (1972) (mean_rating=5.00)\n",
      " - Graduate, The (1967) (mean_rating=4.80)\n",
      " - Apocalypse Now (1979) (mean_rating=4.80)\n",
      " - Reservoir Dogs (1992) (mean_rating=4.60)\n",
      " - Clockwork Orange, A (1971) (mean_rating=4.60)\n"
     ]
    }
   ],
   "source": [
    "import pandas as pd\n",
    "from sklearn.neighbors import NearestNeighbors\n",
    "import numpy as np\n",
    "\n",
    "# 1. Charger les données\n",
    "movies = pd.read_csv(\"ml-latest-small/movies.csv\")\n",
    "ratings = pd.read_csv(\"ml-latest-small/ratings.csv\")\n",
    "\n",
    "# -----------------------------------------------------------------------------\n",
    "# 2. Construire la matrice utilisateur-film\n",
    "#    (rows = userId, columns = movieId, values = rating)\n",
    "# -----------------------------------------------------------------------------\n",
    "user_movie_ratings = ratings.pivot_table(\n",
    "    index=\"userId\",\n",
    "    columns=\"movieId\",\n",
    "    values=\"rating\"\n",
    ")\n",
    "\n",
    "# Remplacer les NaN par 0 (ou une autre stratégie)\n",
    "user_movie_ratings.fillna(0, inplace=True)\n",
    "\n",
    "# -----------------------------------------------------------------------------\n",
    "# 3. Appliquer l'algorithme KNN pour trouver des utilisateurs similaires\n",
    "# -----------------------------------------------------------------------------\n",
    "# On convertit le DataFrame en array NumPy\n",
    "user_item_matrix = user_movie_ratings.values  # shape: (nb_users, nb_movies)\n",
    "\n",
    "# Créer le modèle KNN\n",
    "# metric=\"cosine\" pour se baser sur la similarité cosinus\n",
    "# algorithm=\"brute\" suffit pour un dataset de petite taille\n",
    "knn_model = NearestNeighbors(metric=\"cosine\", algorithm=\"brute\")\n",
    "knn_model.fit(user_item_matrix)\n",
    "\n",
    "# Mapping pour passer de userId -> index du tableau et inversement\n",
    "user_ids = user_movie_ratings.index.tolist()              # liste de tous les userId\n",
    "user_index_map = {uid: idx for idx, uid in enumerate(user_ids)}  # userId -> index\n",
    "\n",
    "# Inverse pour retrouver l'userId depuis un index\n",
    "index_user_map = {idx: uid for uid, idx in user_index_map.items()}\n",
    "\n",
    "# -----------------------------------------------------------------------------\n",
    "# 4. Fonction de recommandation\n",
    "# -----------------------------------------------------------------------------\n",
    "def recommend_movies_for_user(target_user_id, k=5, top_n=5):\n",
    "    \"\"\"\n",
    "    Recommande des films pour l'utilisateur 'target_user_id' en se basant\n",
    "    sur les notes de ses k plus proches voisins.\n",
    "    \n",
    "    k: nombre de voisins (KNN)\n",
    "    top_n: nombre de recommandations à retourner\n",
    "    \"\"\"\n",
    "    if target_user_id not in user_index_map:\n",
    "        print(f\"L'utilisateur {target_user_id} n'existe pas dans les données.\")\n",
    "        return []\n",
    "    \n",
    "    # Récupérer l'index (ligne) correspondant à target_user_id\n",
    "    user_idx = user_index_map[target_user_id]\n",
    "    \n",
    "    # Transformer la ligne en un vecteur (1 x nb_movies)\n",
    "    user_vector = user_item_matrix[user_idx].reshape(1, -1)\n",
    "    \n",
    "    # Trouver les k voisins + 1 (car le plus proche est souvent l'utilisateur lui-même)\n",
    "    distances, indices = knn_model.kneighbors(user_vector, n_neighbors=k+1)\n",
    "    \n",
    "    # indices est une liste de listes\n",
    "    # La première (et unique) liste contient les indices des k+1 plus proches voisins\n",
    "    neighbors_indices = indices[0]\n",
    "    \n",
    "    # Exclure l'utilisateur lui-même (dont l'indice = user_idx)\n",
    "    neighbors_indices = [n for n in neighbors_indices if n != user_idx]\n",
    "    \n",
    "    # Si la liste est vide après exclusion, on arrête\n",
    "    if not neighbors_indices:\n",
    "        print(f\"Aucun voisin trouvé pour l'utilisateur {target_user_id}.\")\n",
    "        return []\n",
    "    \n",
    "    # Récupérer les notes des voisins\n",
    "    # shape: (k, nb_movies)\n",
    "    neighbors_ratings = user_item_matrix[neighbors_indices, :]\n",
    "    \n",
    "    # Calculer la moyenne des notes des voisins pour chaque film\n",
    "    mean_ratings = neighbors_ratings.mean(axis=0)  # shape: (nb_movies,)\n",
    "\n",
    "    # Récupérer les notes du target_user pour savoir ce qui est déjà vu\n",
    "    user_ratings = user_item_matrix[user_idx]\n",
    "\n",
    "    # Construire un DataFrame \"predictions\" avec la moyenne des ratings\n",
    "    # pour chaque film, si le user ne l'a pas déjà noté\n",
    "    predictions_df = pd.DataFrame({\n",
    "        \"movieId\": user_movie_ratings.columns,\n",
    "        \"mean_rating\": mean_ratings,\n",
    "        \"user_rating\": user_ratings\n",
    "    })\n",
    "    \n",
    "    # Filtrer les films déjà notés par l'utilisateur (p. ex. > 0)\n",
    "    # ou on peut filtrer par (user_rating == 0) si on veut recommander ce qu'il n'a pas vu du tout\n",
    "    to_recommend_df = predictions_df[predictions_df[\"user_rating\"] == 0]\n",
    "    \n",
    "    # Trier par note moyenne décroissante (les films les mieux notés par les voisins)\n",
    "    to_recommend_df = to_recommend_df.sort_values(by=\"mean_rating\", ascending=False)\n",
    "    \n",
    "    # Prendre les top_n\n",
    "    top_recs = to_recommend_df.head(top_n)\n",
    "    \n",
    "    # Ajouter le titre pour être plus lisible (join sur movies)\n",
    "    # On doit faire attention aux types (movieId du pivot est int, movies[\"movieId\"] aussi)\n",
    "    top_recs = top_recs.merge(movies[[\"movieId\", \"title\"]], on=\"movieId\", how=\"left\")\n",
    "    \n",
    "    # Retourner la liste des titres (ou le DataFrame complet)\n",
    "    return top_recs[[\"movieId\", \"title\", \"mean_rating\"]].values.tolist()\n",
    "\n",
    "# -----------------------------------------------------------------------------\n",
    "# 5. Exemple d'utilisation\n",
    "# -----------------------------------------------------------------------------\n",
    "target_user_id = 4\n",
    "recs = recommend_movies_for_user(target_user_id, k=5, top_n=5)\n",
    "\n",
    "print(f\"Recommandations pour l'utilisateur {target_user_id}:\")\n",
    "for movie_id, title, rating in recs:\n",
    "    print(f\" - {title} (mean_rating={rating:.2f})\")\n"
   ]
  },
  {
   "cell_type": "markdown",
   "metadata": {},
   "source": [
    "### Evaluation du modèle"
   ]
  },
  {
   "cell_type": "markdown",
   "metadata": {},
   "source": [
    "### Recommandations de films pour certains utilisateurs "
   ]
  },
  {
   "cell_type": "markdown",
   "metadata": {},
   "source": [
    "## Comparaison des approches de recommandations"
   ]
  },
  {
   "cell_type": "markdown",
   "metadata": {},
   "source": [
    "### Performances des différentes méthodes "
   ]
  },
  {
   "cell_type": "markdown",
   "metadata": {},
   "source": [
    "### Comparaison des résultats "
   ]
  },
  {
   "cell_type": "markdown",
   "metadata": {},
   "source": [
    "## Conclusion"
   ]
  }
 ],
 "metadata": {
  "kernelspec": {
   "display_name": "base",
   "language": "python",
   "name": "python3"
  },
  "language_info": {
   "codemirror_mode": {
    "name": "ipython",
    "version": 3
   },
   "file_extension": ".py",
   "mimetype": "text/x-python",
   "name": "python",
   "nbconvert_exporter": "python",
   "pygments_lexer": "ipython3",
   "version": "3.10.9"
  }
 },
 "nbformat": 4,
 "nbformat_minor": 2
}
