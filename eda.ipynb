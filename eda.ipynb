{
 "cells": [
  {
   "cell_type": "markdown",
   "metadata": {},
   "source": [
    "# Analyse des Films et Recommandations avec PySpark\n",
    "\n",
    "Dans ce notebook, nous allons explorer un ensemble de données de films et de notes de spectateurs, puis créer un système de recommandations en utilisant la bibliothèque PySpark. Nous utiliserons diverses fonctionnalités de Spark, comme les transformations de données, les calculs statistiques, ainsi que la réduction de dimension et la standardisation des données.\n",
    "\n",
    "## Étape 1 : Importation des bibliothèques et configuration de l'environnement\n",
    "Nous commençons par importer les bibliothèques nécessaires et configurer la session Spark."
   ]
  },
  {
   "cell_type": "code",
   "execution_count": 52,
   "metadata": {},
   "outputs": [
    {
     "name": "stdout",
     "output_type": "stream",
     "text": [
      "/opt/homebrew/opt/python@3.13/bin/python3.13\n"
     ]
    }
   ],
   "source": [
    "import sys\n",
    "print(sys.executable)\n",
    "\n",
    "try:\n",
    "    import distutils\n",
    "except ModuleNotFoundError:\n",
    "    import setuptools._distutils as distutils\n",
    "    sys.modules[\"distutils\"] = distutils"
   ]
  },
  {
   "cell_type": "markdown",
   "metadata": {},
   "source": [
    "Cette partie du script gère l'importation des bibliothèques nécessaires et traite un problème potentiel de module manquant (distutils). Si le module distutils n'est pas disponible, il essaie d'importer setuptools._distutils et le remplace dans le module système."
   ]
  },
  {
   "cell_type": "markdown",
   "metadata": {},
   "source": [
    "## Étape 2 : Initialisation de la session Spark\n",
    "Nous initialisons une session Spark avec 4 Go de mémoire allouée pour le driver et les exécutants."
   ]
  },
  {
   "cell_type": "code",
   "execution_count": 53,
   "metadata": {},
   "outputs": [
    {
     "name": "stderr",
     "output_type": "stream",
     "text": [
      "25/03/10 15:16:03 WARN SparkSession: Using an existing Spark session; only runtime SQL configurations will take effect.\n"
     ]
    }
   ],
   "source": [
    "from pyspark.sql import SparkSession\n",
    "from pyspark.sql.functions import avg, count\n",
    "from pyspark.sql.functions import explode, split\n",
    "\n",
    "\n",
    "spark = SparkSession.builder \\\n",
    "    .appName(\"MoviesRatings\") \\\n",
    "    .config(\"spark.driver.memory\", \"8g\") \\\n",
    "    .config(\"spark.executor.memory\", \"4g\") \\\n",
    "    .config(\"spark.sql.shuffle.partitions\", \"200\") \\\n",
    "    .getOrCreate()\n",
    "spark.conf.set(\"spark.sql.analyzer.maxIterations\", \"500\")"
   ]
  },
  {
   "cell_type": "markdown",
   "metadata": {},
   "source": [
    "## Étape 3 : Chargement des données\n",
    "Nous chargeons les fichiers CSV contenant les informations des films et des notes."
   ]
  },
  {
   "cell_type": "code",
   "execution_count": 54,
   "metadata": {},
   "outputs": [
    {
     "name": "stdout",
     "output_type": "stream",
     "text": [
      "+-------+--------------------+--------------------+\n",
      "|movieId|               title|              genres|\n",
      "+-------+--------------------+--------------------+\n",
      "|      1|    Toy Story (1995)|Adventure|Animati...|\n",
      "|      2|      Jumanji (1995)|Adventure|Childre...|\n",
      "|      3|Grumpier Old Men ...|      Comedy|Romance|\n",
      "|      4|Waiting to Exhale...|Comedy|Drama|Romance|\n",
      "|      5|Father of the Bri...|              Comedy|\n",
      "|      6|         Heat (1995)|Action|Crime|Thri...|\n",
      "|      7|      Sabrina (1995)|      Comedy|Romance|\n",
      "|      8| Tom and Huck (1995)|  Adventure|Children|\n",
      "|      9| Sudden Death (1995)|              Action|\n",
      "|     10|    GoldenEye (1995)|Action|Adventure|...|\n",
      "+-------+--------------------+--------------------+\n",
      "only showing top 10 rows\n",
      "\n",
      "+------+-------+------+---------+\n",
      "|userId|movieId|rating|timestamp|\n",
      "+------+-------+------+---------+\n",
      "|     1|      1|   4.0|964982703|\n",
      "|     1|      3|   4.0|964981247|\n",
      "|     1|      6|   4.0|964982224|\n",
      "|     1|     47|   5.0|964983815|\n",
      "|     1|     50|   5.0|964982931|\n",
      "|     1|     70|   3.0|964982400|\n",
      "|     1|    101|   5.0|964980868|\n",
      "|     1|    110|   4.0|964982176|\n",
      "|     1|    151|   5.0|964984041|\n",
      "|     1|    157|   5.0|964984100|\n",
      "+------+-------+------+---------+\n",
      "only showing top 10 rows\n",
      "\n"
     ]
    }
   ],
   "source": [
    "movies = spark.read.csv(\"ml-latest-small/movies.csv\", header=True, inferSchema=True)\n",
    "ratings = spark.read.csv(\"ml-latest-small/ratings.csv\", header=True, inferSchema=True)\n",
    "movies.show(10)\n",
    "ratings.show(10)"
   ]
  },
  {
   "cell_type": "markdown",
   "metadata": {},
   "source": [
    "Nous chargeons les fichiers CSV contenant les informations des films et des notes. header=True indique que la première ligne des fichiers CSV contient les en-têtes de colonne, et inferSchema=True permet à Spark de deviner automatiquement les types de données des colonnes. Les fonctions show(10) affichent les 10 premières lignes des DataFrames movies et ratings."
   ]
  },
  {
   "cell_type": "markdown",
   "metadata": {},
   "source": [
    "## Étape 4 : Exploration des données\n",
    "Affichage des schémas des deux ensembles de données pour mieux comprendre leur structure. Puis nous examinons le nombre total de film, les notes des films et le nombre d'utilisateurs uniques."
   ]
  },
  {
   "cell_type": "code",
   "execution_count": 55,
   "metadata": {},
   "outputs": [
    {
     "name": "stdout",
     "output_type": "stream",
     "text": [
      "root\n",
      " |-- movieId: integer (nullable = true)\n",
      " |-- title: string (nullable = true)\n",
      " |-- genres: string (nullable = true)\n",
      "\n",
      "root\n",
      " |-- userId: integer (nullable = true)\n",
      " |-- movieId: integer (nullable = true)\n",
      " |-- rating: double (nullable = true)\n",
      " |-- timestamp: integer (nullable = true)\n",
      "\n"
     ]
    }
   ],
   "source": [
    "movies.printSchema()\n",
    "ratings.printSchema()"
   ]
  },
  {
   "cell_type": "code",
   "execution_count": 56,
   "metadata": {},
   "outputs": [
    {
     "name": "stdout",
     "output_type": "stream",
     "text": [
      "Nombre total de films : 9742\n",
      "Nombre total de notes : 100836\n"
     ]
    }
   ],
   "source": [
    "print(f\"Nombre total de films : {movies.count()}\")\n",
    "print(f\"Nombre total de notes : {ratings.count()}\")"
   ]
  },
  {
   "cell_type": "code",
   "execution_count": 57,
   "metadata": {},
   "outputs": [
    {
     "name": "stdout",
     "output_type": "stream",
     "text": [
      "Nombre d'utilisateurs uniques : 610\n",
      "Nombre de films notés : 9724\n"
     ]
    }
   ],
   "source": [
    "print(f\"Nombre d'utilisateurs uniques : {ratings.select('userId').distinct().count()}\")\n",
    "print(f\"Nombre de films notés : {ratings.select('movieId').distinct().count()}\")"
   ]
  },
  {
   "cell_type": "markdown",
   "metadata": {},
   "source": [
    "Cette étape affiche les schémas des deux ensembles de données pour mieux comprendre leur structure. Ensuite, nous comptons le nombre total de films, le nombre total de notes, le nombre d'utilisateurs uniques et le nombre de films notés."
   ]
  },
  {
   "cell_type": "markdown",
   "metadata": {},
   "source": [
    "## Étape 5 : Statistiques descriptives\n",
    "Affichage de la répartition des notes données par les utilisateurs."
   ]
  },
  {
   "cell_type": "code",
   "execution_count": 58,
   "metadata": {},
   "outputs": [
    {
     "name": "stdout",
     "output_type": "stream",
     "text": [
      "+-------+------------------+\n",
      "|summary|            rating|\n",
      "+-------+------------------+\n",
      "|  count|            100836|\n",
      "|   mean| 3.501556983616962|\n",
      "| stddev|1.0425292390606342|\n",
      "|    min|               0.5|\n",
      "|    max|               5.0|\n",
      "+-------+------------------+\n",
      "\n"
     ]
    }
   ],
   "source": [
    "ratings.describe(\"rating\").show()"
   ]
  },
  {
   "cell_type": "code",
   "execution_count": 59,
   "metadata": {},
   "outputs": [
    {
     "name": "stdout",
     "output_type": "stream",
     "text": [
      "+------+-----+\n",
      "|rating|count|\n",
      "+------+-----+\n",
      "|   0.5| 1370|\n",
      "|   1.0| 2811|\n",
      "|   1.5| 1791|\n",
      "|   2.0| 7551|\n",
      "|   2.5| 5550|\n",
      "|   3.0|20047|\n",
      "|   3.5|13136|\n",
      "|   4.0|26818|\n",
      "|   4.5| 8551|\n",
      "|   5.0|13211|\n",
      "+------+-----+\n",
      "\n"
     ]
    }
   ],
   "source": [
    "from pyspark.sql.functions import col\n",
    "ratings.groupBy(\"rating\").count().orderBy(col(\"rating\")).show()"
   ]
  },
  {
   "cell_type": "code",
   "execution_count": 60,
   "metadata": {},
   "outputs": [
    {
     "name": "stdout",
     "output_type": "stream",
     "text": [
      "+-------+-----------------+------------+\n",
      "|movieId|       avg_rating|count_rating|\n",
      "+-------+-----------------+------------+\n",
      "|   1041|4.590909090909091|          11|\n",
      "|   3451|4.545454545454546|          11|\n",
      "|   1178|4.541666666666667|          12|\n",
      "|   1104|            4.475|          20|\n",
      "|   2360|4.458333333333333|          12|\n",
      "|   1217|4.433333333333334|          15|\n",
      "|    318|4.429022082018927|         317|\n",
      "|    951|4.392857142857143|          14|\n",
      "|   1927|             4.35|          10|\n",
      "|    922|4.333333333333333|          27|\n",
      "+-------+-----------------+------------+\n",
      "only showing top 10 rows\n",
      "\n"
     ]
    }
   ],
   "source": [
    "best_movies = ratings.groupBy(\"movieId\") \\\n",
    "    .agg(avg(\"rating\").alias(\"avg_rating\"), count(\"rating\").alias(\"count_rating\")) \\\n",
    "    .filter(\"count_rating >= 10\") \\\n",
    "    .orderBy(col(\"avg_rating\").desc())\n",
    "best_movies.show(10)"
   ]
  },
  {
   "cell_type": "code",
   "execution_count": 61,
   "metadata": {},
   "outputs": [
    {
     "name": "stdout",
     "output_type": "stream",
     "text": [
      "+------------------+\n",
      "|        avg(count)|\n",
      "+------------------+\n",
      "|10.369806663924312|\n",
      "+------------------+\n",
      "\n"
     ]
    }
   ],
   "source": [
    "avg_ratings_per_movie = ratings.groupBy(\"movieId\").count().agg({\"count\": \"avg\"})\n",
    "avg_ratings_per_movie.show()"
   ]
  },
  {
   "cell_type": "code",
   "execution_count": 62,
   "metadata": {},
   "outputs": [
    {
     "name": "stdout",
     "output_type": "stream",
     "text": [
      "+------------------+-----+\n",
      "|             genre|count|\n",
      "+------------------+-----+\n",
      "|             Drama| 4361|\n",
      "|            Comedy| 3756|\n",
      "|          Thriller| 1894|\n",
      "|            Action| 1828|\n",
      "|           Romance| 1596|\n",
      "|         Adventure| 1263|\n",
      "|             Crime| 1199|\n",
      "|            Sci-Fi|  980|\n",
      "|            Horror|  978|\n",
      "|           Fantasy|  779|\n",
      "|          Children|  664|\n",
      "|         Animation|  611|\n",
      "|           Mystery|  573|\n",
      "|       Documentary|  440|\n",
      "|               War|  382|\n",
      "|           Musical|  334|\n",
      "|           Western|  167|\n",
      "|              IMAX|  158|\n",
      "|         Film-Noir|   87|\n",
      "|(no genres listed)|   34|\n",
      "+------------------+-----+\n",
      "\n"
     ]
    }
   ],
   "source": [
    "movies_genres = movies.withColumn(\"genre\", explode(split(col(\"genres\"), \"\\\\|\")))\n",
    "movies_genres.groupBy(\"genre\").count().orderBy(col(\"count\").desc()).show()\n"
   ]
  },
  {
   "cell_type": "markdown",
   "metadata": {},
   "source": [
    "Dans cette étape, nous affichons la répartition des notes données par les utilisateurs. Nous utilisons groupBy pour regrouper les notes par valeurs uniques et les compter. Ensuite, nous affichons les films les mieux notés en calculant la note moyenne (avg_rating) et le nombre de notes (count_rating) pour chaque film. Nous filtrons pour inclure uniquement les films avec au moins 10 notes. Nous calculons également la moyenne des évaluations par film et explorons les genres de films en décomposant les genres multiples en lignes distinctes (explode et split)."
   ]
  },
  {
   "cell_type": "code",
   "execution_count": 63,
   "metadata": {},
   "outputs": [
    {
     "name": "stdout",
     "output_type": "stream",
     "text": [
      "+-------+--------------------+--------------------+\n",
      "|movieId|               title|              genres|\n",
      "+-------+--------------------+--------------------+\n",
      "|      1|    Toy Story (1995)|Adventure|Animati...|\n",
      "|      2|      Jumanji (1995)|Adventure|Childre...|\n",
      "|      3|Grumpier Old Men ...|      Comedy|Romance|\n",
      "|      4|Waiting to Exhale...|Comedy|Drama|Romance|\n",
      "|      5|Father of the Bri...|              Comedy|\n",
      "|      6|         Heat (1995)|Action|Crime|Thri...|\n",
      "|      7|      Sabrina (1995)|      Comedy|Romance|\n",
      "|      8| Tom and Huck (1995)|  Adventure|Children|\n",
      "|      9| Sudden Death (1995)|              Action|\n",
      "|     10|    GoldenEye (1995)|Action|Adventure|...|\n",
      "|     11|American Presiden...|Comedy|Drama|Romance|\n",
      "|     12|Dracula: Dead and...|       Comedy|Horror|\n",
      "|     13|        Balto (1995)|Adventure|Animati...|\n",
      "|     14|        Nixon (1995)|               Drama|\n",
      "|     15|Cutthroat Island ...|Action|Adventure|...|\n",
      "|     16|       Casino (1995)|         Crime|Drama|\n",
      "|     17|Sense and Sensibi...|       Drama|Romance|\n",
      "|     18|   Four Rooms (1995)|              Comedy|\n",
      "|     19|Ace Ventura: When...|              Comedy|\n",
      "|     20|  Money Train (1995)|Action|Comedy|Cri...|\n",
      "+-------+--------------------+--------------------+\n",
      "only showing top 20 rows\n",
      "\n"
     ]
    }
   ],
   "source": [
    "movies=movies.na.drop()\n",
    "movies.show()"
   ]
  },
  {
   "cell_type": "code",
   "execution_count": 64,
   "metadata": {},
   "outputs": [
    {
     "name": "stdout",
     "output_type": "stream",
     "text": [
      "+------+-------+------+---------+\n",
      "|userId|movieId|rating|timestamp|\n",
      "+------+-------+------+---------+\n",
      "|     1|      1|   4.0|964982703|\n",
      "|     1|      3|   4.0|964981247|\n",
      "|     1|      6|   4.0|964982224|\n",
      "|     1|     47|   5.0|964983815|\n",
      "|     1|     50|   5.0|964982931|\n",
      "|     1|     70|   3.0|964982400|\n",
      "|     1|    101|   5.0|964980868|\n",
      "|     1|    110|   4.0|964982176|\n",
      "|     1|    151|   5.0|964984041|\n",
      "|     1|    157|   5.0|964984100|\n",
      "|     1|    163|   5.0|964983650|\n",
      "|     1|    216|   5.0|964981208|\n",
      "|     1|    223|   3.0|964980985|\n",
      "|     1|    231|   5.0|964981179|\n",
      "|     1|    235|   4.0|964980908|\n",
      "|     1|    260|   5.0|964981680|\n",
      "|     1|    296|   3.0|964982967|\n",
      "|     1|    316|   3.0|964982310|\n",
      "|     1|    333|   5.0|964981179|\n",
      "|     1|    349|   4.0|964982563|\n",
      "+------+-------+------+---------+\n",
      "only showing top 20 rows\n",
      "\n"
     ]
    }
   ],
   "source": [
    "ratings=ratings.na.drop()\n",
    "ratings.show()"
   ]
  },
  {
   "cell_type": "code",
   "execution_count": 65,
   "metadata": {},
   "outputs": [
    {
     "name": "stdout",
     "output_type": "stream",
     "text": [
      "+-------+--------------------+--------------------+\n",
      "|movieId|               title|              genres|\n",
      "+-------+--------------------+--------------------+\n",
      "|      1|    Toy Story (1995)|Adventure|Animati...|\n",
      "|      2|      Jumanji (1995)|Adventure|Childre...|\n",
      "|      3|Grumpier Old Men ...|      Comedy|Romance|\n",
      "|      4|Waiting to Exhale...|Comedy|Drama|Romance|\n",
      "|      5|Father of the Bri...|              Comedy|\n",
      "|      6|         Heat (1995)|Action|Crime|Thri...|\n",
      "|      7|      Sabrina (1995)|      Comedy|Romance|\n",
      "|      8| Tom and Huck (1995)|  Adventure|Children|\n",
      "|      9| Sudden Death (1995)|              Action|\n",
      "|     10|    GoldenEye (1995)|Action|Adventure|...|\n",
      "|     11|American Presiden...|Comedy|Drama|Romance|\n",
      "|     12|Dracula: Dead and...|       Comedy|Horror|\n",
      "|     13|        Balto (1995)|Adventure|Animati...|\n",
      "|     14|        Nixon (1995)|               Drama|\n",
      "|     15|Cutthroat Island ...|Action|Adventure|...|\n",
      "|     16|       Casino (1995)|         Crime|Drama|\n",
      "|     17|Sense and Sensibi...|       Drama|Romance|\n",
      "|     18|   Four Rooms (1995)|              Comedy|\n",
      "|     19|Ace Ventura: When...|              Comedy|\n",
      "|     20|  Money Train (1995)|Action|Comedy|Cri...|\n",
      "+-------+--------------------+--------------------+\n",
      "only showing top 20 rows\n",
      "\n",
      "+-------+--------------------+--------------------+------+------+---------+\n",
      "|movieId|               title|              genres|userId|rating|timestamp|\n",
      "+-------+--------------------+--------------------+------+------+---------+\n",
      "|      1|    Toy Story (1995)|Adventure|Animati...|     1|   4.0|964982703|\n",
      "|      3|Grumpier Old Men ...|      Comedy|Romance|     1|   4.0|964981247|\n",
      "|      6|         Heat (1995)|Action|Crime|Thri...|     1|   4.0|964982224|\n",
      "|     47|Seven (a.k.a. Se7...|    Mystery|Thriller|     1|   5.0|964983815|\n",
      "|     50|Usual Suspects, T...|Crime|Mystery|Thr...|     1|   5.0|964982931|\n",
      "|     70|From Dusk Till Da...|Action|Comedy|Hor...|     1|   3.0|964982400|\n",
      "|    101|Bottle Rocket (1996)|Adventure|Comedy|...|     1|   5.0|964980868|\n",
      "|    110|   Braveheart (1995)|    Action|Drama|War|     1|   4.0|964982176|\n",
      "|    151|      Rob Roy (1995)|Action|Drama|Roma...|     1|   5.0|964984041|\n",
      "|    157|Canadian Bacon (1...|          Comedy|War|     1|   5.0|964984100|\n",
      "|    163|    Desperado (1995)|Action|Romance|We...|     1|   5.0|964983650|\n",
      "|    216|Billy Madison (1995)|              Comedy|     1|   5.0|964981208|\n",
      "|    223|       Clerks (1994)|              Comedy|     1|   3.0|964980985|\n",
      "|    231|Dumb & Dumber (Du...|    Adventure|Comedy|     1|   5.0|964981179|\n",
      "|    235|      Ed Wood (1994)|        Comedy|Drama|     1|   4.0|964980908|\n",
      "|    260|Star Wars: Episod...|Action|Adventure|...|     1|   5.0|964981680|\n",
      "|    296| Pulp Fiction (1994)|Comedy|Crime|Dram...|     1|   3.0|964982967|\n",
      "|    316|     Stargate (1994)|Action|Adventure|...|     1|   3.0|964982310|\n",
      "|    333|    Tommy Boy (1995)|              Comedy|     1|   5.0|964981179|\n",
      "|    349|Clear and Present...|Action|Crime|Dram...|     1|   4.0|964982563|\n",
      "+-------+--------------------+--------------------+------+------+---------+\n",
      "only showing top 20 rows\n",
      "\n"
     ]
    }
   ],
   "source": [
    "movies_r=movies.join(ratings,on=\"movieId\",how=\"inner\")\n",
    "movies.show()\n",
    "movies_r.show()"
   ]
  },
  {
   "cell_type": "markdown",
   "metadata": {},
   "source": [
    "Nous supprimons les valeurs nulles dans les deux ensembles de données (na.drop()). Ensuite, nous effectuons une jointure interne (inner join) des données de films et des évaluations sur la colonne movieId."
   ]
  },
  {
   "cell_type": "code",
   "execution_count": 66,
   "metadata": {},
   "outputs": [],
   "source": [
    "import pandas as pd\n",
    "import matplotlib.pyplot as plt\n",
    "import seaborn as sns\n"
   ]
  },
  {
   "cell_type": "markdown",
   "metadata": {},
   "source": [
    "## Convertion du dataframe Spark des ratings et création de l'histogramme de répartion des notes"
   ]
  },
  {
   "cell_type": "code",
   "execution_count": 67,
   "metadata": {},
   "outputs": [
    {
     "data": {
      "image/png": "[encoded data removed]",
      "text/plain": [
       "<Figure size 800x600 with 1 Axes>"
      ]
     },
     "metadata": {},
     "output_type": "display_data"
    }
   ],
   "source": [
    "\n",
    "ratings_pd = ratings.select(\"rating\").toPandas()\n",
    "\n",
    "plt.figure(figsize=(8, 6))\n",
    "sns.histplot(ratings_pd['rating'], bins=10, kde=True, color='blue')\n",
    "plt.title(\"Répartition des notes\", fontsize=15)\n",
    "plt.xlabel(\"Notes\", fontsize=12)\n",
    "plt.ylabel(\"Nombre d'occurences\", fontsize=12)\n",
    "plt.show()\n"
   ]
  },
  {
   "cell_type": "markdown",
   "metadata": {},
   "source": [
    "## Visualisation des genres les plus populaires"
   ]
  },
  {
   "cell_type": "code",
   "execution_count": 68,
   "metadata": {},
   "outputs": [
    {
     "name": "stderr",
     "output_type": "stream",
     "text": [
      "/var/folders/db/h1lyczmd49d8mk74rb_rkwhw0000gn/T/ipykernel_18663/616616634.py:4: FutureWarning: \n",
      "\n",
      "Passing `palette` without assigning `hue` is deprecated and will be removed in v0.14.0. Assign the `y` variable to `hue` and set `legend=False` for the same effect.\n",
      "\n",
      "  sns.barplot(data=movies_genres_pd, x=\"count\", y=\"genre\", palette=\"viridis\")\n"
     ]
    },
    {
     "data": {
      "image/png": "[encoded data removed]",
      "text/plain": [
       "<Figure size 1000x600 with 1 Axes>"
      ]
     },
     "metadata": {},
     "output_type": "display_data"
    }
   ],
   "source": [
    "movies_genres_pd = movies_genres.groupBy(\"genre\").count().orderBy(col(\"count\").desc()).toPandas()\n",
    "\n",
    "plt.figure(figsize=(10, 6))\n",
    "sns.barplot(data=movies_genres_pd, x=\"count\", y=\"genre\", palette=\"viridis\")\n",
    "plt.title(\"Nombre de films par genre\", fontsize=15)\n",
    "plt.xlabel(\"Nombre de films\", fontsize=12)\n",
    "plt.ylabel(\"Genre\", fontsize=12)\n",
    "plt.show()\n"
   ]
  },
  {
   "cell_type": "markdown",
   "metadata": {},
   "source": [
    "## Visualisation des 10 films les plus notés"
   ]
  },
  {
   "cell_type": "code",
   "execution_count": 69,
   "metadata": {},
   "outputs": [
    {
     "name": "stderr",
     "output_type": "stream",
     "text": [
      "/var/folders/db/h1lyczmd49d8mk74rb_rkwhw0000gn/T/ipykernel_18663/1367498386.py:4: FutureWarning: \n",
      "\n",
      "Passing `palette` without assigning `hue` is deprecated and will be removed in v0.14.0. Assign the `y` variable to `hue` and set `legend=False` for the same effect.\n",
      "\n",
      "  sns.barplot(data=best_movies_pd, x=\"avg_rating\", y=\"title\", palette=\"coolwarm\")\n"
     ]
    },
    {
     "data": {
      "image/png": "[encoded data removed]",
      "text/plain": [
       "<Figure size 1000x600 with 1 Axes>"
      ]
     },
     "metadata": {},
     "output_type": "display_data"
    }
   ],
   "source": [
    "best_movies_pd = best_movies.join(movies, on=\"movieId\").select(\"title\", \"avg_rating\").orderBy(col(\"avg_rating\").desc()).limit(10).toPandas()\n",
    "\n",
    "plt.figure(figsize=(10, 6))\n",
    "sns.barplot(data=best_movies_pd, x=\"avg_rating\", y=\"title\", palette=\"coolwarm\")\n",
    "plt.title(\"Top 10 des films les mieux notés\", fontsize=15)\n",
    "plt.xlabel(\"Note moyenne\", fontsize=12)\n",
    "plt.ylabel(\"Titre du film\", fontsize=12)\n",
    "plt.show()\n"
   ]
  },
  {
   "cell_type": "markdown",
   "metadata": {},
   "source": [
    "## Etape 6 : Modèle de recommandation avec ALS"
   ]
  },
  {
   "cell_type": "code",
   "execution_count": 70,
   "metadata": {},
   "outputs": [],
   "source": [
    "from pyspark.ml.evaluation import RegressionEvaluator\n",
    "from pyspark.ml.recommendation import ALS\n",
    "from pyspark.sql import Row\n"
   ]
  },
  {
   "cell_type": "markdown",
   "metadata": {},
   "source": [
    "Nous utilisons l'algorithme ALS (Alternating Least Squares) pour créer un modèle de recommandation. Nous divisons les données en un ensemble d'entraînement et un ensemble de test, entraînons le modèle, et faisons des prédictions."
   ]
  },
  {
   "cell_type": "code",
   "execution_count": 71,
   "metadata": {},
   "outputs": [],
   "source": [
    "x_train,x_test= movies_r.randomSplit([0.8,0.2])\n"
   ]
  },
  {
   "cell_type": "code",
   "execution_count": 72,
   "metadata": {},
   "outputs": [],
   "source": [
    "x_train,x_test= movies_r.randomSplit([0.8,0.2])\n",
    "als=ALS(maxIter=10, regParam=0.01,userCol=\"userId\",itemCol=\"movieId\",ratingCol=\"rating\",coldStartStrategy=\"drop\",rank=10)\n",
    "\n"
   ]
  },
  {
   "cell_type": "markdown",
   "metadata": {},
   "source": [
    "Division des données : Nous divisons les données en ensembles d'entraînement (x_train) et de test (x_test) avec une répartition de 80% pour l'entraînement et 20% pour le test.\n",
    "\n",
    "Entraînement du modèle : Nous définissons et entraînons un modèle ALS avec 10 itérations (maxIter=10), un paramètre de régularisation de 0.01 (regParam=0.01), et une stratégie pour gérer les valeurs manquantes (coldStartStrategy=\"drop\"). Le modèle est ensuite ajusté (fit) sur les données d'entraînement."
   ]
  },
  {
   "cell_type": "code",
   "execution_count": 73,
   "metadata": {},
   "outputs": [
    {
     "name": "stdout",
     "output_type": "stream",
     "text": [
      "+-------+--------------------+--------------------+------+------+----------+----------+\n",
      "|movieId|               title|              genres|userId|rating| timestamp|prediction|\n",
      "+-------+--------------------+--------------------+------+------+----------+----------+\n",
      "|    471|Hudsucker Proxy, ...|              Comedy|    32|   3.0| 856737165|  3.420539|\n",
      "|    471|Hudsucker Proxy, ...|              Comedy|   133|   4.0| 843491793|  2.905469|\n",
      "|    471|Hudsucker Proxy, ...|              Comedy|   171|   3.0| 866905683| 5.8552694|\n",
      "|    471|Hudsucker Proxy, ...|              Comedy|   218|   4.0|1111624874|  1.935902|\n",
      "|    471|Hudsucker Proxy, ...|              Comedy|   373|   5.0| 846830388| 4.7189336|\n",
      "|    471|Hudsucker Proxy, ...|              Comedy|   448|   4.0|1178980875| 3.0056367|\n",
      "|    471|Hudsucker Proxy, ...|              Comedy|   474|   3.0| 974668858| 3.3768485|\n",
      "|    471|Hudsucker Proxy, ...|              Comedy|   599|   2.5|1498518822| 3.3173919|\n",
      "|    471|Hudsucker Proxy, ...|              Comedy|   602|   4.0| 840876085| 2.8975484|\n",
      "|    471|Hudsucker Proxy, ...|              Comedy|   608|   1.5|1117161794| 2.7958713|\n",
      "|    471|Hudsucker Proxy, ...|              Comedy|   610|   4.0|1479544381|  4.106776|\n",
      "|   1088|Dirty Dancing (1987)|Drama|Musical|Rom...|    10|   3.0|1455619275| 1.7905251|\n",
      "|   1088|Dirty Dancing (1987)|Drama|Musical|Rom...|    41|   1.5|1458939142|0.06937924|\n",
      "|   1088|Dirty Dancing (1987)|Drama|Musical|Rom...|    84|   3.0| 860398568| 3.4088001|\n",
      "|   1088|Dirty Dancing (1987)|Drama|Musical|Rom...|   381|   3.5|1168664508|  3.401315|\n",
      "|   1088|Dirty Dancing (1987)|Drama|Musical|Rom...|   479|   4.0|1039362157|  3.285738|\n",
      "|   1088|Dirty Dancing (1987)|Drama|Musical|Rom...|   509|   3.0|1435992808| 3.4413345|\n",
      "|   1088|Dirty Dancing (1987)|Drama|Musical|Rom...|   525|   4.5|1476478367|  3.691675|\n",
      "|   1342|     Candyman (1992)|     Horror|Thriller|    19|   2.0| 965704952| 3.6629786|\n",
      "|   1580|Men in Black (a.k...|Action|Comedy|Sci-Fi|    42|   4.0| 996214503| 4.1589193|\n",
      "+-------+--------------------+--------------------+------+------+----------+----------+\n",
      "only showing top 20 rows\n",
      "\n"
     ]
    }
   ],
   "source": [
    "model=als.fit(x_train)\n",
    "pred=model.transform(x_test)\n",
    "pred.show()"
   ]
  },
  {
   "cell_type": "markdown",
   "metadata": {},
   "source": [
    "Prédictions : Nous faisons des prédictions sur les données de test et les affichons."
   ]
  },
  {
   "cell_type": "code",
   "execution_count": 74,
   "metadata": {},
   "outputs": [],
   "source": [
    "eval=RegressionEvaluator(metricName=\"rmse\",labelCol=\"rating\",predictionCol=\"prediction\")"
   ]
  },
  {
   "cell_type": "markdown",
   "metadata": {},
   "source": [
    "Évaluation du modèle : Nous évaluons la performance du modèle en utilisant l'erreur quadratique moyenne (RMSE) avec RegressionEvaluator.\n",
    "\n",
    "Recommandations : Nous générons des recommandations pour tous les utilisateurs et tous les films, et nous les affichons."
   ]
  },
  {
   "cell_type": "markdown",
   "metadata": {},
   "source": [
    "## Recommandations avec TF-IDF"
   ]
  },
  {
   "cell_type": "code",
   "execution_count": null,
   "metadata": {},
   "outputs": [
    {
     "name": "stdout",
     "output_type": "stream",
     "text": [
      "\n",
      "Films similaires à 'Toy Story (1995)':\n",
      " - Antz (1998)\n",
      " - Toy Story 2 (1999)\n",
      " - Adventures of Rocky and Bullwinkle, The (2000)\n",
      " - Emperor's New Groove, The (2000)\n",
      " - Monsters, Inc. (2001)\n"
     ]
    }
   ],
   "source": [
    "import pandas as pd\n",
    "from sklearn.feature_extraction.text import TfidfVectorizer\n",
    "from sklearn.metrics.pairwise import cosine_similarity\n",
    "\n",
    "# 1. Chargement des données\n",
    "def load_movies(path_csv):\n",
    "    \"\"\"\n",
    "    Charge le fichier CSV des films et retourne un DataFrame.\n",
    "    \"\"\"\n",
    "    return pd.read_csv(path_csv)\n",
    "\n",
    "\n",
    "# 2. Nettoyage des genres\n",
    "def prepare_genres(df, original_col=\"genres\", new_col=\"processed_genres\"):\n",
    "    \"\"\"\n",
    "    Transforme la colonne 'genres' en texte utilisable par TF-IDF.\n",
    "    Par exemple : \"Action|Comedy\" -> \"Action Comedy\".\n",
    "    \"\"\"\n",
    "    def format_genre_list(g):\n",
    "        if isinstance(g, str):\n",
    "            return \" \".join(g.split(\"|\"))\n",
    "        return \"\"\n",
    "    \n",
    "    df[new_col] = df[original_col].apply(format_genre_list)\n",
    "    return df\n",
    "\n",
    "\n",
    "# 3. Calcul de la matrice TF-IDF\n",
    "def build_tfidf_matrix(df, text_col=\"processed_genres\"):\n",
    "    \"\"\"\n",
    "    Construit la matrice TF-IDF à partir de la colonne textuelle spécifiée.\n",
    "    Retourne la matrice TF-IDF et l'objet vectorizer (optionnel si besoin).\n",
    "    \"\"\"\n",
    "    vectorizer = TfidfVectorizer()\n",
    "    tfidf_mat = vectorizer.fit_transform(df[text_col])\n",
    "    return tfidf_mat, vectorizer\n",
    "\n",
    "\n",
    "# 4. Matrice de similarité cosinus\n",
    "def compute_cosine_similarity_matrix(tfidf_mat):\n",
    "    \"\"\"\n",
    "    Calcule la matrice de similarité cosinus à partir de la matrice TF-IDF.\n",
    "    \"\"\"\n",
    "    return cosine_similarity(tfidf_mat, tfidf_mat)\n",
    "\n",
    "\n",
    "# 5. Mapping titre -> index\n",
    "def create_title_index_mapping(df, title_col=\"title\"):\n",
    "    \"\"\"\n",
    "    Crée une correspondance (titre du film) -> (index de la ligne).\n",
    "    \"\"\"\n",
    "    return pd.Series(df.index, index=df[title_col]).drop_duplicates()\n",
    "\n",
    "\n",
    "# 6. Fonction de recommandation\n",
    "def suggest_similar_movies(movie_title, df, similarity_matrix, title_index_map, top_n=5):\n",
    "    \"\"\"\n",
    "    Propose les films les plus similaires (top_n) au film donné.\n",
    "    Basé sur la similarité cosinus des genres TF-IDF.\n",
    "    \"\"\"\n",
    "    if movie_title not in title_index_map:\n",
    "        return [f\"Le film '{movie_title}' n'existe pas dans le dataset.\"]\n",
    "    \n",
    "    # Récupérer l'index du film\n",
    "    film_idx = title_index_map[movie_title]\n",
    "    \n",
    "    # Récupérer la liste (index_film, similarité) pour tout le dataset\n",
    "    sim_scores = list(enumerate(similarity_matrix[film_idx]))\n",
    "    \n",
    "    # Trier par similarité décroissante et enlever la première position (le film lui-même)\n",
    "    sim_scores = sorted(sim_scores, key=lambda x: x[1], reverse=True)[1:top_n+1]\n",
    "    \n",
    "    # Extraire les index des films similaires\n",
    "    neighbors_idx = [x[0] for x in sim_scores]\n",
    "    \n",
    "    # Retourner les titres correspondants\n",
    "    return df.loc[neighbors_idx, \"title\"].tolist()\n",
    "\n",
    "\n",
    "# ----- Partie exécution (Notebook) -----\n",
    "\n",
    "#\n",
    "movies_df = load_movies(\"ml-latest-small/movies.csv\")\n",
    "\n",
    "movies_df = prepare_genres(movies_df)\n",
    "\n",
    "# C. Construire la matrice TF-IDF\n",
    "tfidf_matrix, _ = build_tfidf_matrix(movies_df, text_col=\"processed_genres\")\n",
    "\n",
    "# D. Calculer la matrice de similarité\n",
    "similarity_matrix = compute_cosine_similarity_matrix(tfidf_matrix)\n",
    "\n",
    "# E. Générer le mapping titre -> index\n",
    "title_index_map = create_title_index_mapping(movies_df)\n",
    "\n",
    "# F. Faire un test de recommandation\n",
    "film_test = \"Toy Story (1995)\"\n",
    "suggestions = suggest_similar_movies(\n",
    "    movie_title=film_test, \n",
    "    df=movies_df, \n",
    "    similarity_matrix=similarity_matrix, \n",
    "    title_index_map=title_index_map, \n",
    "    top_n=5\n",
    ")\n",
    "\n",
    "print(f\"\\nFilms similaires à '{film_test}':\")\n",
    "for movie in suggestions:\n",
    "    print(f\" - {movie}\")\n"
   ]
  },
  {
   "cell_type": "markdown",
   "metadata": {},
   "source": [
    "## Recommandations avec KNN"
   ]
  },
  {
   "cell_type": "code",
   "execution_count": 78,
   "metadata": {},
   "outputs": [
    {
     "name": "stdout",
     "output_type": "stream",
     "text": [
      "Recommandations pour l'utilisateur 4:\n",
      " - Godfather, The (1972) (mean_rating=5.00)\n",
      " - Graduate, The (1967) (mean_rating=4.80)\n",
      " - Apocalypse Now (1979) (mean_rating=4.80)\n",
      " - Reservoir Dogs (1992) (mean_rating=4.60)\n",
      " - Clockwork Orange, A (1971) (mean_rating=4.60)\n"
     ]
    }
   ],
   "source": [
    "import pandas as pd\n",
    "from sklearn.neighbors import NearestNeighbors\n",
    "import numpy as np\n",
    "\n",
    "# 1. Charger les données\n",
    "movies = pd.read_csv(\"ml-latest-small/movies.csv\")\n",
    "ratings = pd.read_csv(\"ml-latest-small/ratings.csv\")\n",
    "\n",
    "# -----------------------------------------------------------------------------\n",
    "# 2. Construire la matrice utilisateur-film\n",
    "#    (rows = userId, columns = movieId, values = rating)\n",
    "# -----------------------------------------------------------------------------\n",
    "user_movie_ratings = ratings.pivot_table(\n",
    "    index=\"userId\",\n",
    "    columns=\"movieId\",\n",
    "    values=\"rating\"\n",
    ")\n",
    "\n",
    "# Remplacer les NaN par 0 (ou une autre stratégie)\n",
    "user_movie_ratings.fillna(0, inplace=True)\n",
    "\n",
    "# -----------------------------------------------------------------------------\n",
    "# 3. Appliquer l'algorithme KNN pour trouver des utilisateurs similaires\n",
    "# -----------------------------------------------------------------------------\n",
    "# On convertit le DataFrame en array NumPy\n",
    "user_item_matrix = user_movie_ratings.values  # shape: (nb_users, nb_movies)\n",
    "\n",
    "# Créer le modèle KNN\n",
    "# metric=\"cosine\" pour se baser sur la similarité cosinus\n",
    "# algorithm=\"brute\" suffit pour un dataset de petite taille\n",
    "knn_model = NearestNeighbors(metric=\"cosine\", algorithm=\"brute\")\n",
    "knn_model.fit(user_item_matrix)\n",
    "\n",
    "# Mapping pour passer de userId -> index du tableau et inversement\n",
    "user_ids = user_movie_ratings.index.tolist()              # liste de tous les userId\n",
    "user_index_map = {uid: idx for idx, uid in enumerate(user_ids)}  # userId -> index\n",
    "\n",
    "# Inverse pour retrouver l'userId depuis un index\n",
    "index_user_map = {idx: uid for uid, idx in user_index_map.items()}\n",
    "\n",
    "# -----------------------------------------------------------------------------\n",
    "# 4. Fonction de recommandation\n",
    "# -----------------------------------------------------------------------------\n",
    "def recommend_movies_for_user(target_user_id, k=5, top_n=5):\n",
    "    \"\"\"\n",
    "    Recommande des films pour l'utilisateur 'target_user_id' en se basant\n",
    "    sur les notes de ses k plus proches voisins.\n",
    "    \n",
    "    k: nombre de voisins (KNN)\n",
    "    top_n: nombre de recommandations à retourner\n",
    "    \"\"\"\n",
    "    if target_user_id not in user_index_map:\n",
    "        print(f\"L'utilisateur {target_user_id} n'existe pas dans les données.\")\n",
    "        return []\n",
    "    \n",
    "    # Récupérer l'index (ligne) correspondant à target_user_id\n",
    "    user_idx = user_index_map[target_user_id]\n",
    "    \n",
    "    # Transformer la ligne en un vecteur (1 x nb_movies)\n",
    "    user_vector = user_item_matrix[user_idx].reshape(1, -1)\n",
    "    \n",
    "    # Trouver les k voisins + 1 (car le plus proche est souvent l'utilisateur lui-même)\n",
    "    distances, indices = knn_model.kneighbors(user_vector, n_neighbors=k+1)\n",
    "    \n",
    "    # indices est une liste de listes\n",
    "    # La première (et unique) liste contient les indices des k+1 plus proches voisins\n",
    "    neighbors_indices = indices[0]\n",
    "    \n",
    "    # Exclure l'utilisateur lui-même (dont l'indice = user_idx)\n",
    "    neighbors_indices = [n for n in neighbors_indices if n != user_idx]\n",
    "    \n",
    "    # Si la liste est vide après exclusion, on arrête\n",
    "    if not neighbors_indices:\n",
    "        print(f\"Aucun voisin trouvé pour l'utilisateur {target_user_id}.\")\n",
    "        return []\n",
    "    \n",
    "    # Récupérer les notes des voisins\n",
    "    # shape: (k, nb_movies)\n",
    "    neighbors_ratings = user_item_matrix[neighbors_indices, :]\n",
    "    \n",
    "    # Calculer la moyenne des notes des voisins pour chaque film\n",
    "    mean_ratings = neighbors_ratings.mean(axis=0)  # shape: (nb_movies,)\n",
    "\n",
    "    # Récupérer les notes du target_user pour savoir ce qui est déjà vu\n",
    "    user_ratings = user_item_matrix[user_idx]\n",
    "\n",
    "    # Construire un DataFrame \"predictions\" avec la moyenne des ratings\n",
    "    # pour chaque film, si le user ne l'a pas déjà noté\n",
    "    predictions_df = pd.DataFrame({\n",
    "        \"movieId\": user_movie_ratings.columns,\n",
    "        \"mean_rating\": mean_ratings,\n",
    "        \"user_rating\": user_ratings\n",
    "    })\n",
    "    \n",
    "    # Filtrer les films déjà notés par l'utilisateur (p. ex. > 0)\n",
    "    # ou on peut filtrer par (user_rating == 0) si on veut recommander ce qu'il n'a pas vu du tout\n",
    "    to_recommend_df = predictions_df[predictions_df[\"user_rating\"] == 0]\n",
    "    \n",
    "    # Trier par note moyenne décroissante (les films les mieux notés par les voisins)\n",
    "    to_recommend_df = to_recommend_df.sort_values(by=\"mean_rating\", ascending=False)\n",
    "    \n",
    "    # Prendre les top_n\n",
    "    top_recs = to_recommend_df.head(top_n)\n",
    "    \n",
    "    # Ajouter le titre pour être plus lisible (join sur movies)\n",
    "    # On doit faire attention aux types (movieId du pivot est int, movies[\"movieId\"] aussi)\n",
    "    top_recs = top_recs.merge(movies[[\"movieId\", \"title\"]], on=\"movieId\", how=\"left\")\n",
    "    \n",
    "    # Retourner la liste des titres (ou le DataFrame complet)\n",
    "    return top_recs[[\"movieId\", \"title\", \"mean_rating\"]].values.tolist()\n",
    "\n",
    "# -----------------------------------------------------------------------------\n",
    "# 5. Exemple d'utilisation\n",
    "# -----------------------------------------------------------------------------\n",
    "target_user_id = 4\n",
    "recs = recommend_movies_for_user(target_user_id, k=5, top_n=5)\n",
    "\n",
    "print(f\"Recommandations pour l'utilisateur {target_user_id}:\")\n",
    "for movie_id, title, rating in recs:\n",
    "    print(f\" - {title} (mean_rating={rating:.2f})\")\n"
   ]
  }
 ],
 "metadata": {
  "kernelspec": {
   "display_name": "Python 3",
   "language": "python",
   "name": "python3"
  },
  "language_info": {
   "codemirror_mode": {
    "name": "ipython",
    "version": 3
   },
   "file_extension": ".py",
   "mimetype": "text/x-python",
   "name": "python",
   "nbconvert_exporter": "python",
   "pygments_lexer": "ipython3",
   "version": "3.13.2"
  }
 },
 "nbformat": 4,
 "nbformat_minor": 2
}
