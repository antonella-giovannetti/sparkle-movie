{
 "cells": [
  {
   "cell_type": "code",
   "execution_count": 1,
   "metadata": {},
   "outputs": [],
   "source": [
    "import sys\n",
    "try:\n",
    "    import distutils\n",
    "except ModuleNotFoundError:\n",
    "    import setuptools._distutils as distutils\n",
    "    sys.modules[\"distutils\"] = distutils"
   ]
  },
  {
   "cell_type": "code",
   "execution_count": 2,
   "metadata": {},
   "outputs": [],
   "source": [
    "from pyspark.sql import SparkSession\n",
    "from pyspark.sql.functions import avg, count\n",
    "from pyspark.sql.functions import explode, split\n",
    "\n",
    "\n",
    "spark = SparkSession.builder \\\n",
    "    .appName(\"MoviesRatings\") \\\n",
    "    .config(\"spark.driver.memory\", \"4g\") \\\n",
    "    .config(\"spark.executor.memory\", \"4g\") \\\n",
    "    .getOrCreate()"
   ]
  },
  {
   "cell_type": "code",
   "execution_count": 3,
   "metadata": {},
   "outputs": [
    {
     "name": "stdout",
     "output_type": "stream",
     "text": [
      "+-------+--------------------+--------------------+\n",
      "|movieId|               title|              genres|\n",
      "+-------+--------------------+--------------------+\n",
      "|      1|    Toy Story (1995)|Adventure|Animati...|\n",
      "|      2|      Jumanji (1995)|Adventure|Childre...|\n",
      "|      3|Grumpier Old Men ...|      Comedy|Romance|\n",
      "|      4|Waiting to Exhale...|Comedy|Drama|Romance|\n",
      "|      5|Father of the Bri...|              Comedy|\n",
      "|      6|         Heat (1995)|Action|Crime|Thri...|\n",
      "|      7|      Sabrina (1995)|      Comedy|Romance|\n",
      "|      8| Tom and Huck (1995)|  Adventure|Children|\n",
      "|      9| Sudden Death (1995)|              Action|\n",
      "|     10|    GoldenEye (1995)|Action|Adventure|...|\n",
      "+-------+--------------------+--------------------+\n",
      "only showing top 10 rows\n",
      "\n",
      "+------+-------+------+---------+\n",
      "|userId|movieId|rating|timestamp|\n",
      "+------+-------+------+---------+\n",
      "|     1|      1|   4.0|964982703|\n",
      "|     1|      3|   4.0|964981247|\n",
      "|     1|      6|   4.0|964982224|\n",
      "|     1|     47|   5.0|964983815|\n",
      "|     1|     50|   5.0|964982931|\n",
      "|     1|     70|   3.0|964982400|\n",
      "|     1|    101|   5.0|964980868|\n",
      "|     1|    110|   4.0|964982176|\n",
      "|     1|    151|   5.0|964984041|\n",
      "|     1|    157|   5.0|964984100|\n",
      "+------+-------+------+---------+\n",
      "only showing top 10 rows\n",
      "\n"
     ]
    }
   ],
   "source": [
    "movies = spark.read.csv(\"ml-latest-small/movies.csv\", header=True, inferSchema=True)\n",
    "ratings = spark.read.csv(\"ml-latest-small/ratings.csv\", header=True, inferSchema=True)\n",
    "movies.show(10)\n",
    "ratings.show(10)"
   ]
  },
  {
   "cell_type": "code",
   "execution_count": 4,
   "metadata": {},
   "outputs": [
    {
     "name": "stdout",
     "output_type": "stream",
     "text": [
      "root\n",
      " |-- movieId: integer (nullable = true)\n",
      " |-- title: string (nullable = true)\n",
      " |-- genres: string (nullable = true)\n",
      "\n",
      "root\n",
      " |-- userId: integer (nullable = true)\n",
      " |-- movieId: integer (nullable = true)\n",
      " |-- rating: double (nullable = true)\n",
      " |-- timestamp: integer (nullable = true)\n",
      "\n"
     ]
    }
   ],
   "source": [
    "movies.printSchema()\n",
    "ratings.printSchema()"
   ]
  },
  {
   "cell_type": "code",
   "execution_count": 5,
   "metadata": {},
   "outputs": [
    {
     "name": "stdout",
     "output_type": "stream",
     "text": [
      "Nombre total de films : 9742\n",
      "Nombre total de notes : 100836\n"
     ]
    }
   ],
   "source": [
    "print(f\"Nombre total de films : {movies.count()}\")\n",
    "print(f\"Nombre total de notes : {ratings.count()}\")"
   ]
  },
  {
   "cell_type": "code",
   "execution_count": 6,
   "metadata": {},
   "outputs": [
    {
     "name": "stdout",
     "output_type": "stream",
     "text": [
      "Nombre d'utilisateurs uniques : 610\n",
      "Nombre de films notés : 9724\n"
     ]
    }
   ],
   "source": [
    "print(f\"Nombre d'utilisateurs uniques : {ratings.select('userId').distinct().count()}\")\n",
    "print(f\"Nombre de films notés : {ratings.select('movieId').distinct().count()}\")"
   ]
  },
  {
   "cell_type": "code",
   "execution_count": 7,
   "metadata": {},
   "outputs": [
    {
     "name": "stdout",
     "output_type": "stream",
     "text": [
      "+-------+------------------+\n",
      "|summary|            rating|\n",
      "+-------+------------------+\n",
      "|  count|            100836|\n",
      "|   mean| 3.501556983616962|\n",
      "| stddev|1.0425292390606342|\n",
      "|    min|               0.5|\n",
      "|    max|               5.0|\n",
      "+-------+------------------+\n",
      "\n"
     ]
    }
   ],
   "source": [
    "ratings.describe(\"rating\").show()"
   ]
  },
  {
   "cell_type": "code",
   "execution_count": 8,
   "metadata": {},
   "outputs": [
    {
     "name": "stdout",
     "output_type": "stream",
     "text": [
      "+------+-----+\n",
      "|rating|count|\n",
      "+------+-----+\n",
      "|   0.5| 1370|\n",
      "|   1.0| 2811|\n",
      "|   1.5| 1791|\n",
      "|   2.0| 7551|\n",
      "|   2.5| 5550|\n",
      "|   3.0|20047|\n",
      "|   3.5|13136|\n",
      "|   4.0|26818|\n",
      "|   4.5| 8551|\n",
      "|   5.0|13211|\n",
      "+------+-----+\n",
      "\n"
     ]
    }
   ],
   "source": [
    "from pyspark.sql.functions import col\n",
    "ratings.groupBy(\"rating\").count().orderBy(col(\"rating\")).show()"
   ]
  },
  {
   "cell_type": "code",
   "execution_count": 9,
   "metadata": {},
   "outputs": [
    {
     "name": "stdout",
     "output_type": "stream",
     "text": [
      "+-------+-----------------+------------+\n",
      "|movieId|       avg_rating|count_rating|\n",
      "+-------+-----------------+------------+\n",
      "|   1041|4.590909090909091|          11|\n",
      "|   3451|4.545454545454546|          11|\n",
      "|   1178|4.541666666666667|          12|\n",
      "|   1104|            4.475|          20|\n",
      "|   2360|4.458333333333333|          12|\n",
      "|   1217|4.433333333333334|          15|\n",
      "|    318|4.429022082018927|         317|\n",
      "|    951|4.392857142857143|          14|\n",
      "|   1927|             4.35|          10|\n",
      "|    922|4.333333333333333|          27|\n",
      "+-------+-----------------+------------+\n",
      "only showing top 10 rows\n",
      "\n"
     ]
    }
   ],
   "source": [
    "best_movies = ratings.groupBy(\"movieId\") \\\n",
    "    .agg(avg(\"rating\").alias(\"avg_rating\"), count(\"rating\").alias(\"count_rating\")) \\\n",
    "    .filter(\"count_rating >= 10\") \\\n",
    "    .orderBy(col(\"avg_rating\").desc())\n",
    "best_movies.show(10)"
   ]
  },
  {
   "cell_type": "code",
   "execution_count": 10,
   "metadata": {},
   "outputs": [
    {
     "name": "stdout",
     "output_type": "stream",
     "text": [
      "+------------------+\n",
      "|        avg(count)|\n",
      "+------------------+\n",
      "|10.369806663924312|\n",
      "+------------------+\n",
      "\n"
     ]
    }
   ],
   "source": [
    "avg_ratings_per_movie = ratings.groupBy(\"movieId\").count().agg({\"count\": \"avg\"})\n",
    "avg_ratings_per_movie.show()"
   ]
  },
  {
   "cell_type": "code",
   "execution_count": 11,
   "metadata": {},
   "outputs": [
    {
     "name": "stdout",
     "output_type": "stream",
     "text": [
      "+------------------+-----+\n",
      "|             genre|count|\n",
      "+------------------+-----+\n",
      "|             Drama| 4361|\n",
      "|            Comedy| 3756|\n",
      "|          Thriller| 1894|\n",
      "|            Action| 1828|\n",
      "|           Romance| 1596|\n",
      "|         Adventure| 1263|\n",
      "|             Crime| 1199|\n",
      "|            Sci-Fi|  980|\n",
      "|            Horror|  978|\n",
      "|           Fantasy|  779|\n",
      "|          Children|  664|\n",
      "|         Animation|  611|\n",
      "|           Mystery|  573|\n",
      "|       Documentary|  440|\n",
      "|               War|  382|\n",
      "|           Musical|  334|\n",
      "|           Western|  167|\n",
      "|              IMAX|  158|\n",
      "|         Film-Noir|   87|\n",
      "|(no genres listed)|   34|\n",
      "+------------------+-----+\n",
      "\n"
     ]
    }
   ],
   "source": [
    "movies_genres = movies.withColumn(\"genre\", explode(split(col(\"genres\"), \"\\\\|\")))\n",
    "movies_genres.groupBy(\"genre\").count().orderBy(col(\"count\").desc()).show()\n"
   ]
  },
  {
   "cell_type": "code",
   "execution_count": 12,
   "metadata": {},
   "outputs": [
    {
     "name": "stdout",
     "output_type": "stream",
     "text": [
      "+-------+--------------------+--------------------+\n",
      "|movieId|               title|              genres|\n",
      "+-------+--------------------+--------------------+\n",
      "|      1|    Toy Story (1995)|Adventure|Animati...|\n",
      "|      2|      Jumanji (1995)|Adventure|Childre...|\n",
      "|      3|Grumpier Old Men ...|      Comedy|Romance|\n",
      "|      4|Waiting to Exhale...|Comedy|Drama|Romance|\n",
      "|      5|Father of the Bri...|              Comedy|\n",
      "|      6|         Heat (1995)|Action|Crime|Thri...|\n",
      "|      7|      Sabrina (1995)|      Comedy|Romance|\n",
      "|      8| Tom and Huck (1995)|  Adventure|Children|\n",
      "|      9| Sudden Death (1995)|              Action|\n",
      "|     10|    GoldenEye (1995)|Action|Adventure|...|\n",
      "|     11|American Presiden...|Comedy|Drama|Romance|\n",
      "|     12|Dracula: Dead and...|       Comedy|Horror|\n",
      "|     13|        Balto (1995)|Adventure|Animati...|\n",
      "|     14|        Nixon (1995)|               Drama|\n",
      "|     15|Cutthroat Island ...|Action|Adventure|...|\n",
      "|     16|       Casino (1995)|         Crime|Drama|\n",
      "|     17|Sense and Sensibi...|       Drama|Romance|\n",
      "|     18|   Four Rooms (1995)|              Comedy|\n",
      "|     19|Ace Ventura: When...|              Comedy|\n",
      "|     20|  Money Train (1995)|Action|Comedy|Cri...|\n",
      "+-------+--------------------+--------------------+\n",
      "only showing top 20 rows\n",
      "\n"
     ]
    }
   ],
   "source": [
    "movies=movies.na.drop()\n",
    "movies.show()"
   ]
  },
  {
   "cell_type": "code",
   "execution_count": 13,
   "metadata": {},
   "outputs": [
    {
     "name": "stdout",
     "output_type": "stream",
     "text": [
      "+------+-------+------+---------+\n",
      "|userId|movieId|rating|timestamp|\n",
      "+------+-------+------+---------+\n",
      "|     1|      1|   4.0|964982703|\n",
      "|     1|      3|   4.0|964981247|\n",
      "|     1|      6|   4.0|964982224|\n",
      "|     1|     47|   5.0|964983815|\n",
      "|     1|     50|   5.0|964982931|\n",
      "|     1|     70|   3.0|964982400|\n",
      "|     1|    101|   5.0|964980868|\n",
      "|     1|    110|   4.0|964982176|\n",
      "|     1|    151|   5.0|964984041|\n",
      "|     1|    157|   5.0|964984100|\n",
      "|     1|    163|   5.0|964983650|\n",
      "|     1|    216|   5.0|964981208|\n",
      "|     1|    223|   3.0|964980985|\n",
      "|     1|    231|   5.0|964981179|\n",
      "|     1|    235|   4.0|964980908|\n",
      "|     1|    260|   5.0|964981680|\n",
      "|     1|    296|   3.0|964982967|\n",
      "|     1|    316|   3.0|964982310|\n",
      "|     1|    333|   5.0|964981179|\n",
      "|     1|    349|   4.0|964982563|\n",
      "+------+-------+------+---------+\n",
      "only showing top 20 rows\n",
      "\n"
     ]
    }
   ],
   "source": [
    "ratings=ratings.na.drop()\n",
    "ratings.show()"
   ]
  },
  {
   "cell_type": "code",
   "execution_count": 14,
   "metadata": {},
   "outputs": [
    {
     "name": "stdout",
     "output_type": "stream",
     "text": [
      "+-------+--------------------+--------------------+\n",
      "|movieId|               title|              genres|\n",
      "+-------+--------------------+--------------------+\n",
      "|      1|    Toy Story (1995)|Adventure|Animati...|\n",
      "|      2|      Jumanji (1995)|Adventure|Childre...|\n",
      "|      3|Grumpier Old Men ...|      Comedy|Romance|\n",
      "|      4|Waiting to Exhale...|Comedy|Drama|Romance|\n",
      "|      5|Father of the Bri...|              Comedy|\n",
      "|      6|         Heat (1995)|Action|Crime|Thri...|\n",
      "|      7|      Sabrina (1995)|      Comedy|Romance|\n",
      "|      8| Tom and Huck (1995)|  Adventure|Children|\n",
      "|      9| Sudden Death (1995)|              Action|\n",
      "|     10|    GoldenEye (1995)|Action|Adventure|...|\n",
      "|     11|American Presiden...|Comedy|Drama|Romance|\n",
      "|     12|Dracula: Dead and...|       Comedy|Horror|\n",
      "|     13|        Balto (1995)|Adventure|Animati...|\n",
      "|     14|        Nixon (1995)|               Drama|\n",
      "|     15|Cutthroat Island ...|Action|Adventure|...|\n",
      "|     16|       Casino (1995)|         Crime|Drama|\n",
      "|     17|Sense and Sensibi...|       Drama|Romance|\n",
      "|     18|   Four Rooms (1995)|              Comedy|\n",
      "|     19|Ace Ventura: When...|              Comedy|\n",
      "|     20|  Money Train (1995)|Action|Comedy|Cri...|\n",
      "+-------+--------------------+--------------------+\n",
      "only showing top 20 rows\n",
      "\n",
      "+-------+--------------------+--------------------+------+------+---------+\n",
      "|movieId|               title|              genres|userId|rating|timestamp|\n",
      "+-------+--------------------+--------------------+------+------+---------+\n",
      "|      1|    Toy Story (1995)|Adventure|Animati...|     1|   4.0|964982703|\n",
      "|      3|Grumpier Old Men ...|      Comedy|Romance|     1|   4.0|964981247|\n",
      "|      6|         Heat (1995)|Action|Crime|Thri...|     1|   4.0|964982224|\n",
      "|     47|Seven (a.k.a. Se7...|    Mystery|Thriller|     1|   5.0|964983815|\n",
      "|     50|Usual Suspects, T...|Crime|Mystery|Thr...|     1|   5.0|964982931|\n",
      "|     70|From Dusk Till Da...|Action|Comedy|Hor...|     1|   3.0|964982400|\n",
      "|    101|Bottle Rocket (1996)|Adventure|Comedy|...|     1|   5.0|964980868|\n",
      "|    110|   Braveheart (1995)|    Action|Drama|War|     1|   4.0|964982176|\n",
      "|    151|      Rob Roy (1995)|Action|Drama|Roma...|     1|   5.0|964984041|\n",
      "|    157|Canadian Bacon (1...|          Comedy|War|     1|   5.0|964984100|\n",
      "|    163|    Desperado (1995)|Action|Romance|We...|     1|   5.0|964983650|\n",
      "|    216|Billy Madison (1995)|              Comedy|     1|   5.0|964981208|\n",
      "|    223|       Clerks (1994)|              Comedy|     1|   3.0|964980985|\n",
      "|    231|Dumb & Dumber (Du...|    Adventure|Comedy|     1|   5.0|964981179|\n",
      "|    235|      Ed Wood (1994)|        Comedy|Drama|     1|   4.0|964980908|\n",
      "|    260|Star Wars: Episod...|Action|Adventure|...|     1|   5.0|964981680|\n",
      "|    296| Pulp Fiction (1994)|Comedy|Crime|Dram...|     1|   3.0|964982967|\n",
      "|    316|     Stargate (1994)|Action|Adventure|...|     1|   3.0|964982310|\n",
      "|    333|    Tommy Boy (1995)|              Comedy|     1|   5.0|964981179|\n",
      "|    349|Clear and Present...|Action|Crime|Dram...|     1|   4.0|964982563|\n",
      "+-------+--------------------+--------------------+------+------+---------+\n",
      "only showing top 20 rows\n",
      "\n"
     ]
    }
   ],
   "source": [
    "movies_r=movies.join(ratings,on=\"movieId\",how=\"inner\")\n",
    "movies.show()\n",
    "movies_r.show()"
   ]
  },
  {
   "cell_type": "code",
   "execution_count": 15,
   "metadata": {},
   "outputs": [],
   "source": [
    "from pyspark.ml.evaluation import RegressionEvaluator\n",
    "from pyspark.ml.recommendation import ALS\n",
    "from pyspark.ml.feature import VectorAssembler,StandardScaler\n",
    "from pyspark.sql import Row\n"
   ]
  },
  {
   "cell_type": "code",
   "execution_count": 16,
   "metadata": {},
   "outputs": [
    {
     "name": "stdout",
     "output_type": "stream",
     "text": [
      "+------------------+\n",
      "|features          |\n",
      "+------------------+\n",
      "|[4.0,9.64982703E8]|\n",
      "|[4.0,9.64981247E8]|\n",
      "|[4.0,9.64982224E8]|\n",
      "|[5.0,9.64983815E8]|\n",
      "|[5.0,9.64982931E8]|\n",
      "|[3.0,9.649824E8]  |\n",
      "|[5.0,9.64980868E8]|\n",
      "|[4.0,9.64982176E8]|\n",
      "|[5.0,9.64984041E8]|\n",
      "|[5.0,9.649841E8]  |\n",
      "|[5.0,9.6498365E8] |\n",
      "|[5.0,9.64981208E8]|\n",
      "|[3.0,9.64980985E8]|\n",
      "|[5.0,9.64981179E8]|\n",
      "|[4.0,9.64980908E8]|\n",
      "|[5.0,9.6498168E8] |\n",
      "|[3.0,9.64982967E8]|\n",
      "|[3.0,9.6498231E8] |\n",
      "|[5.0,9.64981179E8]|\n",
      "|[4.0,9.64982563E8]|\n",
      "+------------------+\n",
      "only showing top 20 rows\n",
      "\n"
     ]
    }
   ],
   "source": [
    "ass=VectorAssembler(inputCols=[\"rating\",\"timestamp\"],outputCol=\"features\")\n",
    "ratings_vect=ass.transform(ratings)\n",
    "ratings_vect.select(\"features\").show(truncate=False)\n"
   ]
  },
  {
   "cell_type": "markdown",
   "metadata": {},
   "source": [
    "Standardisation avec StandardScaler"
   ]
  },
  {
   "cell_type": "code",
   "execution_count": 17,
   "metadata": {},
   "outputs": [],
   "source": [
    "scal=StandardScaler(inputCol=\"features\",outputCol=\"scal_features\", withMean=True,withStd=True)\n",
    "scal_model=scal.fit(ratings_vect)\n",
    "ratings_scal=scal_model.transform(ratings_vect)\n",
    "scal_2=StandardScaler(inputCol=\"features\",outputCol=\"scal_features\", withMean=True,withStd=True)"
   ]
  },
  {
   "cell_type": "code",
   "execution_count": 18,
   "metadata": {},
   "outputs": [
    {
     "data": {
      "text/plain": [
       "DataFrame[userId: int, movieId: int, scal_features: vector]"
      ]
     },
     "execution_count": 18,
     "metadata": {},
     "output_type": "execute_result"
    }
   ],
   "source": [
    "ratings_scal.select(\"userId\",\"movieId\",\"scal_features\")"
   ]
  },
  {
   "cell_type": "code",
   "execution_count": 19,
   "metadata": {},
   "outputs": [
    {
     "name": "stdout",
     "output_type": "stream",
     "text": [
      "+-------+--------------------+--------------------+------+------+---------+------------------+--------------------+\n",
      "|movieId|               title|              genres|userId|rating|timestamp|          features|       scal_features|\n",
      "+-------+--------------------+--------------------+------+------+---------+------------------+--------------------+\n",
      "|      1|    Toy Story (1995)|Adventure|Animati...|     1|   4.0|964982703|[4.0,9.64982703E8]|[0.47810938792676...|\n",
      "|      3|Grumpier Old Men ...|      Comedy|Romance|     1|   4.0|964981247|[4.0,9.64981247E8]|[0.47810938792676...|\n",
      "|      6|         Heat (1995)|Action|Crime|Thri...|     1|   4.0|964982224|[4.0,9.64982224E8]|[0.47810938792676...|\n",
      "|     47|Seven (a.k.a. Se7...|    Mystery|Thriller|     1|   5.0|964983815|[5.0,9.64983815E8]|[1.43731509893497...|\n",
      "|     50|Usual Suspects, T...|Crime|Mystery|Thr...|     1|   5.0|964982931|[5.0,9.64982931E8]|[1.43731509893497...|\n",
      "|     70|From Dusk Till Da...|Action|Comedy|Hor...|     1|   3.0|964982400|  [3.0,9.649824E8]|[-0.4810963230814...|\n",
      "|    101|Bottle Rocket (1996)|Adventure|Comedy|...|     1|   5.0|964980868|[5.0,9.64980868E8]|[1.43731509893497...|\n",
      "|    110|   Braveheart (1995)|    Action|Drama|War|     1|   4.0|964982176|[4.0,9.64982176E8]|[0.47810938792676...|\n",
      "|    151|      Rob Roy (1995)|Action|Drama|Roma...|     1|   5.0|964984041|[5.0,9.64984041E8]|[1.43731509893497...|\n",
      "|    157|Canadian Bacon (1...|          Comedy|War|     1|   5.0|964984100|  [5.0,9.649841E8]|[1.43731509893497...|\n",
      "|    163|    Desperado (1995)|Action|Romance|We...|     1|   5.0|964983650| [5.0,9.6498365E8]|[1.43731509893497...|\n",
      "|    216|Billy Madison (1995)|              Comedy|     1|   5.0|964981208|[5.0,9.64981208E8]|[1.43731509893497...|\n",
      "|    223|       Clerks (1994)|              Comedy|     1|   3.0|964980985|[3.0,9.64980985E8]|[-0.4810963230814...|\n",
      "|    231|Dumb & Dumber (Du...|    Adventure|Comedy|     1|   5.0|964981179|[5.0,9.64981179E8]|[1.43731509893497...|\n",
      "|    235|      Ed Wood (1994)|        Comedy|Drama|     1|   4.0|964980908|[4.0,9.64980908E8]|[0.47810938792676...|\n",
      "|    260|Star Wars: Episod...|Action|Adventure|...|     1|   5.0|964981680| [5.0,9.6498168E8]|[1.43731509893497...|\n",
      "|    296| Pulp Fiction (1994)|Comedy|Crime|Dram...|     1|   3.0|964982967|[3.0,9.64982967E8]|[-0.4810963230814...|\n",
      "|    316|     Stargate (1994)|Action|Adventure|...|     1|   3.0|964982310| [3.0,9.6498231E8]|[-0.4810963230814...|\n",
      "|    333|    Tommy Boy (1995)|              Comedy|     1|   5.0|964981179|[5.0,9.64981179E8]|[1.43731509893497...|\n",
      "|    349|Clear and Present...|Action|Crime|Dram...|     1|   4.0|964982563|[4.0,9.64982563E8]|[0.47810938792676...|\n",
      "+-------+--------------------+--------------------+------+------+---------+------------------+--------------------+\n",
      "only showing top 20 rows\n",
      "\n"
     ]
    }
   ],
   "source": [
    "movies_r=movies.join(ratings_scal,on=\"movieId\",how=\"inner\")\n",
    "movies_r.show()"
   ]
  },
  {
   "cell_type": "markdown",
   "metadata": {},
   "source": [
    "ACP"
   ]
  },
  {
   "cell_type": "code",
   "execution_count": 20,
   "metadata": {},
   "outputs": [],
   "source": [
    "from pyspark.ml.feature import PCA"
   ]
  },
  {
   "cell_type": "code",
   "execution_count": 21,
   "metadata": {},
   "outputs": [],
   "source": [
    "acp=PCA(k=2,inputCol=\"scal_features\",outputCol=\"acp_features\")\n",
    "model_acp=acp.fit(movies_r)"
   ]
  },
  {
   "cell_type": "code",
   "execution_count": 22,
   "metadata": {},
   "outputs": [],
   "source": [
    "df_acp=model_acp.transform(movies_r)"
   ]
  },
  {
   "cell_type": "code",
   "execution_count": 23,
   "metadata": {},
   "outputs": [
    {
     "name": "stdout",
     "output_type": "stream",
     "text": [
      "+------+--------------------+--------------------+\n",
      "|userId|              genres|        acp_features|\n",
      "+------+--------------------+--------------------+\n",
      "|     1|Adventure|Animati...|[-1.1259502197759...|\n",
      "|     1|      Comedy|Romance|[-1.1259549804461...|\n",
      "|     1|Action|Crime|Thri...|[-1.1259517859580...|\n",
      "|     1|    Mystery|Thriller|[-1.8042074466711...|\n",
      "|     1|Crime|Mystery|Thr...|[-1.8042103370781...|\n",
      "|     1|Action|Comedy|Hor...|[-0.4476903477006...|\n",
      "|     1|Adventure|Comedy|...|[-1.8042170824508...|\n",
      "|     1|    Action|Drama|War|[-1.1259519429031...|\n",
      "|     1|Action|Drama|Roma...|[-1.8042067077210...|\n",
      "|     1|          Comedy|War|[-1.8042065148092...|\n",
      "|     1|Action|Romance|We...|[-1.8042079861702...|\n",
      "|     1|              Comedy|[-1.8042159707558...|\n",
      "|     1|              Comedy|[-0.4476949743135...|\n",
      "|     1|    Adventure|Comedy|[-1.8042160655768...|\n",
      "|     1|        Comedy|Drama|[-1.1259560888714...|\n",
      "|     1|Action|Adventure|...|[-1.8042144274616...|\n",
      "|     1|Comedy|Crime|Dram...|[-0.4476884937858...|\n",
      "|     1|Action|Adventure|...|[-0.4476906419728...|\n",
      "|     1|              Comedy|[-1.8042160655768...|\n",
      "|     1|Action|Crime|Dram...|[-1.1259506775327...|\n",
      "+------+--------------------+--------------------+\n",
      "only showing top 20 rows\n",
      "\n"
     ]
    }
   ],
   "source": [
    "df_acp.select(\"userId\",\"genres\",\"acp_features\").show(truncate=True)\n"
   ]
  },
  {
   "cell_type": "code",
   "execution_count": 24,
   "metadata": {},
   "outputs": [
    {
     "name": "stdout",
     "output_type": "stream",
     "text": [
      "variance expliquée:[0.50290121 0.49709879]\n"
     ]
    }
   ],
   "source": [
    "print(f\"variance expliquée:{model_acp.explainedVariance.toArray()}\")"
   ]
  },
  {
   "cell_type": "code",
   "execution_count": 25,
   "metadata": {},
   "outputs": [],
   "source": [
    "x_train,x_test= movies_r.randomSplit([0.8,0.2])\n"
   ]
  },
  {
   "cell_type": "code",
   "execution_count": 26,
   "metadata": {},
   "outputs": [],
   "source": [
    "x_train,x_test= movies_r.randomSplit([0.8,0.2])\n",
    "als=ALS(maxIter=10, regParam=0.01,userCol=\"userId\",itemCol=\"movieId\",ratingCol=\"rating\",coldStartStrategy=\"drop\",rank=10)\n",
    "\n"
   ]
  },
  {
   "cell_type": "code",
   "execution_count": 27,
   "metadata": {},
   "outputs": [
    {
     "name": "stdout",
     "output_type": "stream",
     "text": [
      "+-------+--------------------+--------------------+------+------+----------+-------------------+--------------------+----------+\n",
      "|movieId|               title|              genres|userId|rating| timestamp|           features|       scal_features|prediction|\n",
      "+-------+--------------------+--------------------+------+------+----------+-------------------+--------------------+----------+\n",
      "|    356| Forrest Gump (1994)|Comedy|Drama|Roma...|   148|   4.0|1482548476|[4.0,1.482548476E9]|[0.47810938792676...| 3.5648632|\n",
      "|   1088|Dirty Dancing (1987)|Drama|Musical|Rom...|   463|   3.5|1145460096|[3.5,1.145460096E9]|[-0.0014934675773...| 2.4859412|\n",
      "|   1092|Basic Instinct (1...|Crime|Mystery|Thr...|   463|   3.0|1145460035|[3.0,1.145460035E9]|[-0.4810963230814...| 3.3892093|\n",
      "|   3753| Patriot, The (2000)|    Action|Drama|War|   463|   4.0|1145460023|[4.0,1.145460023E9]|[0.47810938792676...| 3.8307564|\n",
      "|   4310| Pearl Harbor (2001)|Action|Drama|Roma...|   463|   3.0|1145460333|[3.0,1.145460333E9]|[-0.4810963230814...|  3.101297|\n",
      "|   4993|Lord of the Rings...|   Adventure|Fantasy|   496|   4.0|1415520448|[4.0,1.415520448E9]|[0.47810938792676...|  4.183393|\n",
      "|   5952|Lord of the Rings...|   Adventure|Fantasy|   463|   5.0|1145460278|[5.0,1.145460278E9]|[1.43731509893497...| 3.9514372|\n",
      "|   6539|Pirates of the Ca...|Action|Adventure|...|   471|   3.5|1496671946|[3.5,1.496671946E9]|[-0.0014934675773...| 3.6816518|\n",
      "|   7320|Dirty Dancing: Ha...|             Romance|   463|   4.0|1145460102|[4.0,1.145460102E9]|[0.47810938792676...| 1.1999915|\n",
      "|   8636| Spider-Man 2 (2004)|Action|Adventure|...|   471|   2.5|1496671897|[2.5,1.496671897E9]|[-0.9606991785855...| 3.7648728|\n",
      "|   8874|Shaun of the Dead...|       Comedy|Horror|   471|   3.5|1496668982|[3.5,1.496668982E9]|[-0.0014934675773...| 5.2673798|\n",
      "|  31658|Howl's Moving Cas...|Adventure|Animati...|   148|   4.0|1482548683|[4.0,1.482548683E9]|[0.47810938792676...| 3.7719378|\n",
      "|  40815|Harry Potter and ...|Adventure|Fantasy...|   148|   4.0|1482548512|[4.0,1.482548512E9]|[0.47810938792676...| 4.0085654|\n",
      "|  68954|           Up (2009)|Adventure|Animati...|   148|   4.0|1482548482|[4.0,1.482548482E9]|[0.47810938792676...| 3.7433903|\n",
      "|  89745|Avengers, The (2012)|Action|Adventure|...|   148|   4.0|1482548710| [4.0,1.48254871E9]|[0.47810938792676...| 2.9605048|\n",
      "| 110102|Captain America: ...|Action|Adventure|...|   148|   4.0|1482548669|[4.0,1.482548669E9]|[0.47810938792676...| 3.3541672|\n",
      "| 111362|X-Men: Days of Fu...|Action|Adventure|...|   496|   3.5|1415520469|[3.5,1.415520469E9]|[-0.0014934675773...| 2.2184412|\n",
      "| 134853|   Inside Out (2015)|Adventure|Animati...|   148|   4.0|1482548516|[4.0,1.482548516E9]|[0.47810938792676...| 1.6545771|\n",
      "| 160718|        Piper (2016)|           Animation|   148|   4.5|1482548446|[4.5,1.482548446E9]|[0.95771224343087...| 3.3449874|\n",
      "|    153|Batman Forever (1...|Action|Adventure|...|   243|   4.0| 837155068| [4.0,8.37155068E8]|[0.47810938792676...| 3.5042126|\n",
      "+-------+--------------------+--------------------+------+------+----------+-------------------+--------------------+----------+\n",
      "only showing top 20 rows\n",
      "\n"
     ]
    }
   ],
   "source": [
    "model=als.fit(x_train)\n",
    "pred=model.transform(x_test)\n",
    "pred.show()"
   ]
  },
  {
   "cell_type": "code",
   "execution_count": 28,
   "metadata": {},
   "outputs": [],
   "source": [
    "eval=RegressionEvaluator(metricName=\"rmse\",labelCol=\"rating\",predictionCol=\"prediction\")"
   ]
  },
  {
   "cell_type": "code",
   "execution_count": null,
   "metadata": {},
   "outputs": [],
   "source": []
  },
  {
   "cell_type": "markdown",
   "metadata": {},
   "source": []
  }
 ],
 "metadata": {
  "kernelspec": {
   "display_name": "base",
   "language": "python",
   "name": "python3"
  },
  "language_info": {
   "codemirror_mode": {
    "name": "ipython",
    "version": 3
   },
   "file_extension": ".py",
   "mimetype": "text/x-python",
   "name": "python",
   "nbconvert_exporter": "python",
   "pygments_lexer": "ipython3",
   "version": "3.10.9"
  }
 },
 "nbformat": 4,
 "nbformat_minor": 2
}
