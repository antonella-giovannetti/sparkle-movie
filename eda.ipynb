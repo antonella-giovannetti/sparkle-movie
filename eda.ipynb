{
 "cells": [
  {
   "cell_type": "code",
   "execution_count": 47,
   "metadata": {},
   "outputs": [],
   "source": [
    "import sys\n",
    "try:\n",
    "    import distutils\n",
    "except ModuleNotFoundError:\n",
    "    import setuptools._distutils as distutils\n",
    "    sys.modules[\"distutils\"] = distutils"
   ]
  },
  {
   "cell_type": "code",
   "execution_count": 48,
   "metadata": {},
   "outputs": [],
   "source": [
    "from pyspark.sql import SparkSession\n",
    "from pyspark.sql.functions import avg, count\n",
    "from pyspark.sql.functions import explode, split\n",
    "\n",
    "\n",
    "spark = SparkSession.builder \\\n",
    "    .appName(\"MoviesRatings\") \\\n",
    "    .config(\"spark.driver.memory\", \"4g\") \\\n",
    "    .config(\"spark.executor.memory\", \"4g\") \\\n",
    "    .getOrCreate()"
   ]
  },
  {
   "cell_type": "code",
   "execution_count": 49,
   "metadata": {},
   "outputs": [
    {
     "name": "stdout",
     "output_type": "stream",
     "text": [
      "+-------+--------------------+--------------------+\n",
      "|movieId|               title|              genres|\n",
      "+-------+--------------------+--------------------+\n",
      "|      1|    Toy Story (1995)|Adventure|Animati...|\n",
      "|      2|      Jumanji (1995)|Adventure|Childre...|\n",
      "|      3|Grumpier Old Men ...|      Comedy|Romance|\n",
      "|      4|Waiting to Exhale...|Comedy|Drama|Romance|\n",
      "|      5|Father of the Bri...|              Comedy|\n",
      "|      6|         Heat (1995)|Action|Crime|Thri...|\n",
      "|      7|      Sabrina (1995)|      Comedy|Romance|\n",
      "|      8| Tom and Huck (1995)|  Adventure|Children|\n",
      "|      9| Sudden Death (1995)|              Action|\n",
      "|     10|    GoldenEye (1995)|Action|Adventure|...|\n",
      "+-------+--------------------+--------------------+\n",
      "only showing top 10 rows\n",
      "\n",
      "+------+-------+------+---------+\n",
      "|userId|movieId|rating|timestamp|\n",
      "+------+-------+------+---------+\n",
      "|     1|      1|   4.0|964982703|\n",
      "|     1|      3|   4.0|964981247|\n",
      "|     1|      6|   4.0|964982224|\n",
      "|     1|     47|   5.0|964983815|\n",
      "|     1|     50|   5.0|964982931|\n",
      "|     1|     70|   3.0|964982400|\n",
      "|     1|    101|   5.0|964980868|\n",
      "|     1|    110|   4.0|964982176|\n",
      "|     1|    151|   5.0|964984041|\n",
      "|     1|    157|   5.0|964984100|\n",
      "+------+-------+------+---------+\n",
      "only showing top 10 rows\n",
      "\n"
     ]
    }
   ],
   "source": [
    "movies = spark.read.csv(\"ml-latest-small/movies.csv\", header=True, inferSchema=True)\n",
    "ratings = spark.read.csv(\"ml-latest-small/ratings.csv\", header=True, inferSchema=True)\n",
    "movies.show(10)\n",
    "ratings.show(10)"
   ]
  },
  {
   "cell_type": "code",
   "execution_count": 50,
   "metadata": {},
   "outputs": [
    {
     "name": "stdout",
     "output_type": "stream",
     "text": [
      "root\n",
      " |-- movieId: integer (nullable = true)\n",
      " |-- title: string (nullable = true)\n",
      " |-- genres: string (nullable = true)\n",
      "\n",
      "root\n",
      " |-- userId: integer (nullable = true)\n",
      " |-- movieId: integer (nullable = true)\n",
      " |-- rating: double (nullable = true)\n",
      " |-- timestamp: integer (nullable = true)\n",
      "\n"
     ]
    }
   ],
   "source": [
    "movies.printSchema()\n",
    "ratings.printSchema()"
   ]
  },
  {
   "cell_type": "code",
   "execution_count": 51,
   "metadata": {},
   "outputs": [
    {
     "name": "stdout",
     "output_type": "stream",
     "text": [
      "Nombre total de films : 9742\n",
      "Nombre total de notes : 100836\n"
     ]
    }
   ],
   "source": [
    "print(f\"Nombre total de films : {movies.count()}\")\n",
    "print(f\"Nombre total de notes : {ratings.count()}\")"
   ]
  },
  {
   "cell_type": "code",
   "execution_count": 52,
   "metadata": {},
   "outputs": [
    {
     "name": "stdout",
     "output_type": "stream",
     "text": [
      "Nombre d'utilisateurs uniques : 610\n",
      "Nombre de films notés : 9724\n"
     ]
    }
   ],
   "source": [
    "print(f\"Nombre d'utilisateurs uniques : {ratings.select('userId').distinct().count()}\")\n",
    "print(f\"Nombre de films notés : {ratings.select('movieId').distinct().count()}\")"
   ]
  },
  {
   "cell_type": "code",
   "execution_count": 53,
   "metadata": {},
   "outputs": [
    {
     "name": "stdout",
     "output_type": "stream",
     "text": [
      "+-------+------------------+\n",
      "|summary|            rating|\n",
      "+-------+------------------+\n",
      "|  count|            100836|\n",
      "|   mean| 3.501556983616962|\n",
      "| stddev|1.0425292390606342|\n",
      "|    min|               0.5|\n",
      "|    max|               5.0|\n",
      "+-------+------------------+\n",
      "\n"
     ]
    }
   ],
   "source": [
    "ratings.describe(\"rating\").show()"
   ]
  },
  {
   "cell_type": "code",
   "execution_count": 54,
   "metadata": {},
   "outputs": [
    {
     "name": "stdout",
     "output_type": "stream",
     "text": [
      "+------+-----+\n",
      "|rating|count|\n",
      "+------+-----+\n",
      "|   0.5| 1370|\n",
      "|   1.0| 2811|\n",
      "|   1.5| 1791|\n",
      "|   2.0| 7551|\n",
      "|   2.5| 5550|\n",
      "|   3.0|20047|\n",
      "|   3.5|13136|\n",
      "|   4.0|26818|\n",
      "|   4.5| 8551|\n",
      "|   5.0|13211|\n",
      "+------+-----+\n",
      "\n"
     ]
    }
   ],
   "source": [
    "from pyspark.sql.functions import col\n",
    "ratings.groupBy(\"rating\").count().orderBy(col(\"rating\")).show()"
   ]
  },
  {
   "cell_type": "code",
   "execution_count": 55,
   "metadata": {},
   "outputs": [
    {
     "name": "stdout",
     "output_type": "stream",
     "text": [
      "+-------+-----------------+------------+\n",
      "|movieId|       avg_rating|count_rating|\n",
      "+-------+-----------------+------------+\n",
      "|   1041|4.590909090909091|          11|\n",
      "|   3451|4.545454545454546|          11|\n",
      "|   1178|4.541666666666667|          12|\n",
      "|   1104|            4.475|          20|\n",
      "|   2360|4.458333333333333|          12|\n",
      "|   1217|4.433333333333334|          15|\n",
      "|    318|4.429022082018927|         317|\n",
      "|    951|4.392857142857143|          14|\n",
      "|   1927|             4.35|          10|\n",
      "|    922|4.333333333333333|          27|\n",
      "+-------+-----------------+------------+\n",
      "only showing top 10 rows\n",
      "\n"
     ]
    }
   ],
   "source": [
    "best_movies = ratings.groupBy(\"movieId\") \\\n",
    "    .agg(avg(\"rating\").alias(\"avg_rating\"), count(\"rating\").alias(\"count_rating\")) \\\n",
    "    .filter(\"count_rating >= 10\") \\\n",
    "    .orderBy(col(\"avg_rating\").desc())\n",
    "best_movies.show(10)"
   ]
  },
  {
   "cell_type": "code",
   "execution_count": 56,
   "metadata": {},
   "outputs": [
    {
     "name": "stdout",
     "output_type": "stream",
     "text": [
      "+------------------+\n",
      "|        avg(count)|\n",
      "+------------------+\n",
      "|10.369806663924312|\n",
      "+------------------+\n",
      "\n"
     ]
    }
   ],
   "source": [
    "avg_ratings_per_movie = ratings.groupBy(\"movieId\").count().agg({\"count\": \"avg\"})\n",
    "avg_ratings_per_movie.show()"
   ]
  },
  {
   "cell_type": "code",
   "execution_count": 57,
   "metadata": {},
   "outputs": [
    {
     "name": "stdout",
     "output_type": "stream",
     "text": [
      "+------------------+-----+\n",
      "|             genre|count|\n",
      "+------------------+-----+\n",
      "|             Drama| 4361|\n",
      "|            Comedy| 3756|\n",
      "|          Thriller| 1894|\n",
      "|            Action| 1828|\n",
      "|           Romance| 1596|\n",
      "|         Adventure| 1263|\n",
      "|             Crime| 1199|\n",
      "|            Sci-Fi|  980|\n",
      "|            Horror|  978|\n",
      "|           Fantasy|  779|\n",
      "|          Children|  664|\n",
      "|         Animation|  611|\n",
      "|           Mystery|  573|\n",
      "|       Documentary|  440|\n",
      "|               War|  382|\n",
      "|           Musical|  334|\n",
      "|           Western|  167|\n",
      "|              IMAX|  158|\n",
      "|         Film-Noir|   87|\n",
      "|(no genres listed)|   34|\n",
      "+------------------+-----+\n",
      "\n"
     ]
    }
   ],
   "source": [
    "movies_genres = movies.withColumn(\"genre\", explode(split(col(\"genres\"), \"\\\\|\")))\n",
    "movies_genres.groupBy(\"genre\").count().orderBy(col(\"count\").desc()).show()\n"
   ]
  }
 ],
 "metadata": {
  "kernelspec": {
   "display_name": "base",
   "language": "python",
   "name": "python3"
  },
  "language_info": {
   "codemirror_mode": {
    "name": "ipython",
    "version": 3
   },
   "file_extension": ".py",
   "mimetype": "text/x-python",
   "name": "python",
   "nbconvert_exporter": "python",
   "pygments_lexer": "ipython3",
   "version": "3.10.9"
  }
 },
 "nbformat": 4,
 "nbformat_minor": 2
}
